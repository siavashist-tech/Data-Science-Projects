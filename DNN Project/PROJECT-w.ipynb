{
 "cells": [
  {
   "cell_type": "markdown",
   "id": "8a381b23",
   "metadata": {},
   "source": [
    "# <u> Importing libraries </u> :"
   ]
  },
  {
   "cell_type": "code",
   "execution_count": 1,
   "id": "0cf9a50c",
   "metadata": {},
   "outputs": [],
   "source": [
    "import matplotlib.pyplot as plt\n",
    "import numpy as np\n",
    "import tensorflow as tf\n",
    "import tensorflow_probability as tfp\n",
    "from tensorflow.keras import layers\n",
    "from keras.datasets import mnist\n",
    "from keras.models import Sequential \n",
    "from keras.layers.core import Dense, Activation\n",
    "from keras.utils import np_utils\n",
    "from tensorflow import keras\n",
    "from tensorflow.keras.datasets import mnist\n",
    "from tensorflow.keras.optimizers import Adam\n",
    "from tensorflow.keras.utils import to_categorical"
   ]
  },
  {
   "cell_type": "markdown",
   "id": "5cda8e55",
   "metadata": {},
   "source": [
    "# <u> Loading the Dataset</u> :"
   ]
  },
  {
   "cell_type": "code",
   "execution_count": 2,
   "id": "085f3adb",
   "metadata": {},
   "outputs": [],
   "source": [
    "(x_train, y_train), (x_test, y_test) = mnist.load_data()"
   ]
  },
  {
   "cell_type": "markdown",
   "id": "05ea1d82",
   "metadata": {},
   "source": [
    "# <u> Data Processing </u> :"
   ]
  },
  {
   "cell_type": "code",
   "execution_count": 3,
   "id": "12740316",
   "metadata": {},
   "outputs": [
    {
     "data": {
      "image/png": "[encoded data removed]",
      "text/plain": [
       "<Figure size 720x720 with 25 Axes>"
      ]
     },
     "metadata": {
      "needs_background": "light"
     },
     "output_type": "display_data"
    }
   ],
   "source": [
    "# Display the first 25 images from the training set\n",
    "fig, axs = plt.subplots(5, 5, figsize=(10,10))\n",
    "axs = axs.ravel()\n",
    "\n",
    "for i in range(25):\n",
    "    axs[i].imshow(x_train[i], cmap='gray')\n",
    "    axs[i].axis('off')\n",
    "    axs[i].set_title(str(y_train[i]))\n",
    "plt.show()"
   ]
  },
  {
   "cell_type": "code",
   "execution_count": 4,
   "id": "1afd29e2",
   "metadata": {},
   "outputs": [
    {
     "name": "stdout",
     "output_type": "stream",
     "text": [
      "Previous X_train shape: (60000, 28, 28) \n",
      "Previous Y_train shape:(60000,)\n"
     ]
    }
   ],
   "source": [
    "print(\"Previous X_train shape: {} \\nPrevious Y_train shape:{}\".format(x_train.shape, y_train.shape))\n",
    "x_train = x_train.reshape(60000, 784)     \n",
    "x_test = x_test.reshape(10000, 784)"
   ]
  },
  {
   "cell_type": "code",
   "execution_count": 5,
   "id": "7bd1a648",
   "metadata": {},
   "outputs": [
    {
     "name": "stdout",
     "output_type": "stream",
     "text": [
      "New X_train shape: (60000, 784) \n",
      "New Y_train shape:(60000, 10)\n"
     ]
    }
   ],
   "source": [
    "x_train = x_train.astype('float32')     \n",
    "x_test = x_test.astype('float32')     \n",
    "x_train /= 255    \n",
    "x_test /= 255\n",
    "classes = 10\n",
    "y_train = np_utils.to_categorical(y_train, classes)     \n",
    "y_test = np_utils.to_categorical(y_test, classes)\n",
    "print(\"New X_train shape: {} \\nNew Y_train shape:{}\".format(x_train.shape, y_train.shape))"
   ]
  },
  {
   "cell_type": "markdown",
   "id": "d598fc50",
   "metadata": {},
   "source": [
    "# <u> Model architecture</u> : \n",
    "The FCN model is designed to have an input layer of size 784 (28x28 pixels), two hidden layers with 400 and 20 neurons respectively, and an output layer with 10 neurons (corresponding to the 10 digits 0-9). The activation function used in the hidden layers is the rectified linear unit (ReLU) and the softmax function is used in the output layer to generate probability distributions over the 10 classes.\n",
    "\n",
    "### Setting up parameters"
   ]
  },
  {
   "cell_type": "code",
   "execution_count": 6,
   "id": "6b162491",
   "metadata": {},
   "outputs": [],
   "source": [
    "input_size = 784\n",
    "batch_size = 200   \n",
    "hidden1 = 400\n",
    "hidden2 = 20\n",
    "epochs = 25"
   ]
  },
  {
   "cell_type": "markdown",
   "id": "e443c6b2",
   "metadata": {},
   "source": [
    "### Building the FCN Model"
   ]
  },
  {
   "cell_type": "code",
   "execution_count": 7,
   "id": "fcc6794d",
   "metadata": {},
   "outputs": [
    {
     "name": "stdout",
     "output_type": "stream",
     "text": [
      "Model: \"sequential\"\n",
      "_________________________________________________________________\n",
      " Layer (type)                Output Shape              Param #   \n",
      "=================================================================\n",
      " dense (Dense)               (None, 400)               314000    \n",
      "                                                                 \n",
      " dense_1 (Dense)             (None, 20)                8020      \n",
      "                                                                 \n",
      " dense_2 (Dense)             (None, 10)                210       \n",
      "                                                                 \n",
      "=================================================================\n",
      "Total params: 322,230\n",
      "Trainable params: 322,230\n",
      "Non-trainable params: 0\n",
      "_________________________________________________________________\n"
     ]
    }
   ],
   "source": [
    "#Build the model\n",
    "model = Sequential()     \n",
    "model.add(Dense(hidden1, input_dim=input_size, activation='relu'))\n",
    "\n",
    "# output = relu (dot (W, input) + bias)\n",
    "model.add(Dense(hidden2, activation='relu'))\n",
    "model.add(Dense(classes, activation='softmax')) \n",
    "\n",
    "# Compilation\n",
    "model.compile(loss='categorical_crossentropy', metrics=['accuracy'], optimizer='sgd')\n",
    "model.summary()"
   ]
  },
  {
   "cell_type": "markdown",
   "id": "d375df19",
   "metadata": {},
   "source": [
    "### Fitting on Data"
   ]
  },
  {
   "cell_type": "code",
   "execution_count": 8,
   "id": "0e94e846",
   "metadata": {},
   "outputs": [
    {
     "name": "stdout",
     "output_type": "stream",
     "text": [
      "Epoch 1/10\n",
      "300/300 - 2s - loss: 1.5629 - accuracy: 0.5222 - 2s/epoch - 6ms/step\n",
      "Epoch 2/10\n",
      "300/300 - 1s - loss: 0.7131 - accuracy: 0.8252 - 1s/epoch - 4ms/step\n",
      "Epoch 3/10\n",
      "300/300 - 1s - loss: 0.4903 - accuracy: 0.8726 - 1s/epoch - 4ms/step\n",
      "Epoch 4/10\n",
      "300/300 - 1s - loss: 0.4072 - accuracy: 0.8902 - 1s/epoch - 4ms/step\n",
      "Epoch 5/10\n",
      "300/300 - 1s - loss: 0.3629 - accuracy: 0.9008 - 1s/epoch - 4ms/step\n",
      "Epoch 6/10\n",
      "300/300 - 1s - loss: 0.3343 - accuracy: 0.9077 - 1s/epoch - 4ms/step\n",
      "Epoch 7/10\n",
      "300/300 - 1s - loss: 0.3136 - accuracy: 0.9131 - 1s/epoch - 4ms/step\n",
      "Epoch 8/10\n",
      "300/300 - 1s - loss: 0.2973 - accuracy: 0.9176 - 1s/epoch - 4ms/step\n",
      "Epoch 9/10\n",
      "300/300 - 1s - loss: 0.2839 - accuracy: 0.9208 - 1s/epoch - 4ms/step\n",
      "Epoch 10/10\n",
      "300/300 - 1s - loss: 0.2722 - accuracy: 0.9241 - 1s/epoch - 4ms/step\n"
     ]
    },
    {
     "data": {
      "text/plain": [
       "<keras.callbacks.History at 0x230e49a4cd0>"
      ]
     },
     "execution_count": 8,
     "metadata": {},
     "output_type": "execute_result"
    }
   ],
   "source": [
    "model.fit(x_train, y_train, batch_size=batch_size, epochs=10, verbose=2)"
   ]
  },
  {
   "cell_type": "markdown",
   "id": "de0493ca",
   "metadata": {},
   "source": [
    "### Training the model"
   ]
  },
  {
   "cell_type": "code",
   "execution_count": 9,
   "id": "20858779",
   "metadata": {},
   "outputs": [
    {
     "name": "stdout",
     "output_type": "stream",
     "text": [
      "Epoch 1/25\n",
      "300/300 [==============================] - 2s 7ms/step - loss: 0.2617 - accuracy: 0.9265 - val_loss: 0.2503 - val_accuracy: 0.9298\n",
      "Epoch 2/25\n",
      "300/300 [==============================] - 2s 6ms/step - loss: 0.2524 - accuracy: 0.9294 - val_loss: 0.2411 - val_accuracy: 0.9323\n",
      "Epoch 3/25\n",
      "300/300 [==============================] - 2s 6ms/step - loss: 0.2439 - accuracy: 0.9322 - val_loss: 0.2346 - val_accuracy: 0.9343\n",
      "Epoch 4/25\n",
      "300/300 [==============================] - 2s 6ms/step - loss: 0.2359 - accuracy: 0.9340 - val_loss: 0.2289 - val_accuracy: 0.9363\n",
      "Epoch 5/25\n",
      "300/300 [==============================] - 2s 6ms/step - loss: 0.2287 - accuracy: 0.9364 - val_loss: 0.2221 - val_accuracy: 0.9367\n",
      "Epoch 6/25\n",
      "300/300 [==============================] - 2s 6ms/step - loss: 0.2219 - accuracy: 0.9385 - val_loss: 0.2156 - val_accuracy: 0.9387\n",
      "Epoch 7/25\n",
      "300/300 [==============================] - 2s 6ms/step - loss: 0.2154 - accuracy: 0.9395 - val_loss: 0.2112 - val_accuracy: 0.9399\n",
      "Epoch 8/25\n",
      "300/300 [==============================] - 2s 6ms/step - loss: 0.2093 - accuracy: 0.9416 - val_loss: 0.2053 - val_accuracy: 0.9419\n",
      "Epoch 9/25\n",
      "300/300 [==============================] - 2s 6ms/step - loss: 0.2036 - accuracy: 0.9427 - val_loss: 0.2004 - val_accuracy: 0.9428\n",
      "Epoch 10/25\n",
      "300/300 [==============================] - 2s 6ms/step - loss: 0.1981 - accuracy: 0.9449 - val_loss: 0.1960 - val_accuracy: 0.9445\n",
      "Epoch 11/25\n",
      "300/300 [==============================] - 2s 6ms/step - loss: 0.1930 - accuracy: 0.9461 - val_loss: 0.1911 - val_accuracy: 0.9458\n",
      "Epoch 12/25\n",
      "300/300 [==============================] - 2s 6ms/step - loss: 0.1880 - accuracy: 0.9476 - val_loss: 0.1885 - val_accuracy: 0.9459\n",
      "Epoch 13/25\n",
      "300/300 [==============================] - 2s 6ms/step - loss: 0.1833 - accuracy: 0.9488 - val_loss: 0.1839 - val_accuracy: 0.9471\n",
      "Epoch 14/25\n",
      "300/300 [==============================] - 2s 6ms/step - loss: 0.1790 - accuracy: 0.9499 - val_loss: 0.1800 - val_accuracy: 0.9482\n",
      "Epoch 15/25\n",
      "300/300 [==============================] - 2s 6ms/step - loss: 0.1746 - accuracy: 0.9512 - val_loss: 0.1757 - val_accuracy: 0.9488\n",
      "Epoch 16/25\n",
      "300/300 [==============================] - 2s 6ms/step - loss: 0.1705 - accuracy: 0.9524 - val_loss: 0.1729 - val_accuracy: 0.9499\n",
      "Epoch 17/25\n",
      "300/300 [==============================] - 2s 6ms/step - loss: 0.1664 - accuracy: 0.9535 - val_loss: 0.1696 - val_accuracy: 0.9512\n",
      "Epoch 18/25\n",
      "300/300 [==============================] - 2s 6ms/step - loss: 0.1626 - accuracy: 0.9544 - val_loss: 0.1664 - val_accuracy: 0.9511\n",
      "Epoch 19/25\n",
      "300/300 [==============================] - 2s 6ms/step - loss: 0.1589 - accuracy: 0.9555 - val_loss: 0.1627 - val_accuracy: 0.9519\n",
      "Epoch 20/25\n",
      "300/300 [==============================] - 2s 6ms/step - loss: 0.1555 - accuracy: 0.9566 - val_loss: 0.1601 - val_accuracy: 0.9534\n",
      "Epoch 21/25\n",
      "300/300 [==============================] - 2s 6ms/step - loss: 0.1520 - accuracy: 0.9574 - val_loss: 0.1567 - val_accuracy: 0.9541\n",
      "Epoch 22/25\n",
      "300/300 [==============================] - 2s 6ms/step - loss: 0.1488 - accuracy: 0.9582 - val_loss: 0.1537 - val_accuracy: 0.9541\n",
      "Epoch 23/25\n",
      "300/300 [==============================] - 2s 6ms/step - loss: 0.1457 - accuracy: 0.9590 - val_loss: 0.1520 - val_accuracy: 0.9546\n",
      "Epoch 24/25\n",
      "300/300 [==============================] - 2s 6ms/step - loss: 0.1425 - accuracy: 0.9600 - val_loss: 0.1485 - val_accuracy: 0.9566\n",
      "Epoch 25/25\n",
      "300/300 [==============================] - 2s 6ms/step - loss: 0.1396 - accuracy: 0.9607 - val_loss: 0.1470 - val_accuracy: 0.9567\n"
     ]
    }
   ],
   "source": [
    "history = model.fit(x_train, y_train, batch_size=batch_size, epochs=epochs, validation_data=(x_test, y_test))"
   ]
  },
  {
   "cell_type": "markdown",
   "id": "e25a59ee",
   "metadata": {},
   "source": [
    "### Evaluating the model on test data"
   ]
  },
  {
   "cell_type": "code",
   "execution_count": 10,
   "id": "787138cb",
   "metadata": {},
   "outputs": [
    {
     "name": "stdout",
     "output_type": "stream",
     "text": [
      "Test loss: 0.14696545898914337\n",
      "Test accuracy: 0.9567000269889832\n"
     ]
    }
   ],
   "source": [
    "score = model.evaluate(x_test, y_test, verbose=0)\n",
    "print(\"Test loss:\", score[0])\n",
    "print(\"Test accuracy:\", score[1])"
   ]
  },
  {
   "cell_type": "markdown",
   "id": "1731062b",
   "metadata": {},
   "source": [
    "# <u>Error analysis</u> : \n",
    "The errors made by the model are analyzed to identify patterns and improve the performance of the model."
   ]
  },
  {
   "cell_type": "code",
   "execution_count": 11,
   "id": "6f799f77",
   "metadata": {},
   "outputs": [],
   "source": [
    "from sklearn.metrics import confusion_matrix"
   ]
  },
  {
   "cell_type": "markdown",
   "id": "de56f62a",
   "metadata": {},
   "source": [
    "### Generating predictions for the test set"
   ]
  },
  {
   "cell_type": "code",
   "execution_count": 12,
   "id": "11476e5b",
   "metadata": {},
   "outputs": [
    {
     "name": "stdout",
     "output_type": "stream",
     "text": [
      "313/313 [==============================] - 1s 2ms/step\n"
     ]
    }
   ],
   "source": [
    "y_pred = model.predict(x_test)"
   ]
  },
  {
   "cell_type": "markdown",
   "id": "1c29ea56",
   "metadata": {},
   "source": [
    "### Converting predictions from one-hot encoding to label"
   ]
  },
  {
   "cell_type": "code",
   "execution_count": 13,
   "id": "a91dd05a",
   "metadata": {},
   "outputs": [],
   "source": [
    "y_pred_labels = np.argmax(y_pred, axis=1)\n",
    "y_true_labels = np.argmax(y_test, axis=1)"
   ]
  },
  {
   "cell_type": "markdown",
   "id": "906a3af0",
   "metadata": {},
   "source": [
    "### Generating confusion matrix"
   ]
  },
  {
   "cell_type": "code",
   "execution_count": 14,
   "id": "9817cb40",
   "metadata": {},
   "outputs": [],
   "source": [
    "conf_mat = confusion_matrix(y_true_labels, y_pred_labels)"
   ]
  },
  {
   "cell_type": "markdown",
   "id": "e45554df",
   "metadata": {},
   "source": [
    "### Plotting confusion matrix"
   ]
  },
  {
   "cell_type": "code",
   "execution_count": 15,
   "id": "a2037ba6",
   "metadata": {},
   "outputs": [
    {
     "data": {
      "image/png": "[encoded data removed]",
      "text/plain": [
       "<Figure size 432x288 with 2 Axes>"
      ]
     },
     "metadata": {
      "needs_background": "light"
     },
     "output_type": "display_data"
    }
   ],
   "source": [
    "plt.imshow(conf_mat, cmap=plt.cm.Blues)\n",
    "plt.colorbar()\n",
    "plt.xticks(np.arange(10))\n",
    "plt.yticks(np.arange(10))\n",
    "plt.xlabel('Predicted Label')\n",
    "plt.ylabel('True Label')\n",
    "plt.show()"
   ]
  },
  {
   "cell_type": "markdown",
   "id": "b4de3b7d",
   "metadata": {},
   "source": [
    "The output graph generated by this code shows a heatmap of the confusion matrix, which is a table that summarizes the performance of a classification algorithm. The confusion matrix compares the predicted labels with the true labels of the test set and provides information on the number of correct and incorrect predictions for each class.\n",
    "\n",
    "The heatmap shows the values of the confusion matrix, where each row represents the true labels and each column represents the predicted labels. The color intensity of each cell represents the number of instances that were classified in that particular way. The lighter colors represent a smaller number of instances, while the darker colors represent a larger number of instances. The diagonal cells correspond to the correctly classified instances, while the off-diagonal cells correspond to the incorrectly classified instances."
   ]
  },
  {
   "cell_type": "markdown",
   "id": "b4cafa2c",
   "metadata": {},
   "source": [
    "### Finding misclassified examples"
   ]
  },
  {
   "cell_type": "code",
   "execution_count": 16,
   "id": "b08f62db",
   "metadata": {},
   "outputs": [
    {
     "data": {
      "image/png": "[encoded data removed]",
      "text/plain": [
       "<Figure size 720x720 with 25 Axes>"
      ]
     },
     "metadata": {
      "needs_background": "light"
     },
     "output_type": "display_data"
    }
   ],
   "source": [
    "misclassified_idx = np.where(y_pred_labels != y_true_labels)[0]\n",
    "\n",
    "# Plot some of the misclassified examples\n",
    "fig, axs = plt.subplots(5, 5, figsize=(10,10))\n",
    "axs = axs.ravel()\n",
    "\n",
    "for i, idx in enumerate(misclassified_idx[:25]):\n",
    "    axs[i].imshow(x_test[idx].reshape(28, 28), cmap='gray')\n",
    "    axs[i].axis('off')\n",
    "    axs[i].set_title('True: {} / Pred: {}'.format(y_true_labels[idx], y_pred_labels[idx]))\n",
    "\n",
    "plt.show()\n"
   ]
  },
  {
   "cell_type": "markdown",
   "id": "14202892",
   "metadata": {},
   "source": [
    "These images are misclassified examples from the test set, which means the model predicted the wrong label for them. The code first identifies the indices of the misclassified examples using numpy's where function. \n",
    "\n",
    "<b>Observations</b>:\n",
    "\n",
    "The model is not perfect and makes mistakes, as evidenced by the misclassified examples.\n",
    "The misclassified examples have a variety of true and predicted labels, indicating that the model is making mistakes across different digits and not just one particular digit.\n",
    "Some of the misclassified examples are visually difficult to classify even for humans, such as those with unusual handwriting or overlapping digits."
   ]
  },
  {
   "cell_type": "markdown",
   "id": "8a5b447f",
   "metadata": {},
   "source": [
    "# Regularization in Neural Networks:\n",
    "L2 regularization is applied to the model to prevent overfitting."
   ]
  },
  {
   "cell_type": "markdown",
   "id": "6fff5a15",
   "metadata": {},
   "source": [
    "### Build the models without and with L2 regularization"
   ]
  },
  {
   "cell_type": "code",
   "execution_count": 17,
   "id": "f7672211",
   "metadata": {},
   "outputs": [],
   "source": [
    "from keras import regularizers"
   ]
  },
  {
   "cell_type": "markdown",
   "id": "662a21be",
   "metadata": {},
   "source": [
    "### building model without L2 regularization"
   ]
  },
  {
   "cell_type": "code",
   "execution_count": 18,
   "id": "fe8798a2",
   "metadata": {},
   "outputs": [],
   "source": [
    "model = Sequential()     \n",
    "model.add(Dense(hidden1, input_dim=input_size, activation='relu'))\n",
    "model.add(Dense(hidden2, activation='relu'))\n",
    "model.add(Dense(classes, activation='softmax'))"
   ]
  },
  {
   "cell_type": "markdown",
   "id": "4cbe3fce",
   "metadata": {},
   "source": [
    "### Compiling the model"
   ]
  },
  {
   "cell_type": "code",
   "execution_count": 19,
   "id": "f03d0c5d",
   "metadata": {},
   "outputs": [],
   "source": [
    "model.compile(loss='categorical_crossentropy', metrics=['accuracy'], optimizer='sgd')"
   ]
  },
  {
   "cell_type": "markdown",
   "id": "9e737d78",
   "metadata": {},
   "source": [
    "### model summary"
   ]
  },
  {
   "cell_type": "code",
   "execution_count": 20,
   "id": "75502f1f",
   "metadata": {},
   "outputs": [
    {
     "name": "stdout",
     "output_type": "stream",
     "text": [
      "Model: \"sequential_1\"\n",
      "_________________________________________________________________\n",
      " Layer (type)                Output Shape              Param #   \n",
      "=================================================================\n",
      " dense_3 (Dense)             (None, 400)               314000    \n",
      "                                                                 \n",
      " dense_4 (Dense)             (None, 20)                8020      \n",
      "                                                                 \n",
      " dense_5 (Dense)             (None, 10)                210       \n",
      "                                                                 \n",
      "=================================================================\n",
      "Total params: 322,230\n",
      "Trainable params: 322,230\n",
      "Non-trainable params: 0\n",
      "_________________________________________________________________\n"
     ]
    }
   ],
   "source": [
    "model.summary()"
   ]
  },
  {
   "cell_type": "markdown",
   "id": "1da6c25b",
   "metadata": {},
   "source": [
    "### Training the model"
   ]
  },
  {
   "cell_type": "code",
   "execution_count": 21,
   "id": "24056b02",
   "metadata": {},
   "outputs": [
    {
     "name": "stdout",
     "output_type": "stream",
     "text": [
      "Epoch 1/25\n",
      "300/300 [==============================] - 2s 7ms/step - loss: 1.5402 - accuracy: 0.6040 - val_loss: 0.8878 - val_accuracy: 0.8095\n",
      "Epoch 2/25\n",
      "300/300 [==============================] - 2s 6ms/step - loss: 0.6755 - accuracy: 0.8411 - val_loss: 0.5188 - val_accuracy: 0.8663\n",
      "Epoch 3/25\n",
      "300/300 [==============================] - 2s 6ms/step - loss: 0.4778 - accuracy: 0.8752 - val_loss: 0.4168 - val_accuracy: 0.8886\n",
      "Epoch 4/25\n",
      "300/300 [==============================] - 2s 6ms/step - loss: 0.4063 - accuracy: 0.8898 - val_loss: 0.3673 - val_accuracy: 0.8996\n",
      "Epoch 5/25\n",
      "300/300 [==============================] - 2s 6ms/step - loss: 0.3674 - accuracy: 0.8981 - val_loss: 0.3378 - val_accuracy: 0.9051\n",
      "Epoch 6/25\n",
      "300/300 [==============================] - 2s 6ms/step - loss: 0.3418 - accuracy: 0.9041 - val_loss: 0.3160 - val_accuracy: 0.9105\n",
      "Epoch 7/25\n",
      "300/300 [==============================] - 2s 6ms/step - loss: 0.3225 - accuracy: 0.9092 - val_loss: 0.3006 - val_accuracy: 0.9136\n",
      "Epoch 8/25\n",
      "300/300 [==============================] - 2s 7ms/step - loss: 0.3068 - accuracy: 0.9136 - val_loss: 0.2874 - val_accuracy: 0.9177\n",
      "Epoch 9/25\n",
      "300/300 [==============================] - 2s 7ms/step - loss: 0.2939 - accuracy: 0.9172 - val_loss: 0.2761 - val_accuracy: 0.9220\n",
      "Epoch 10/25\n",
      "300/300 [==============================] - 2s 7ms/step - loss: 0.2823 - accuracy: 0.9204 - val_loss: 0.2667 - val_accuracy: 0.9234\n",
      "Epoch 11/25\n",
      "300/300 [==============================] - 2s 7ms/step - loss: 0.2717 - accuracy: 0.9235 - val_loss: 0.2577 - val_accuracy: 0.9269\n",
      "Epoch 12/25\n",
      "300/300 [==============================] - 2s 6ms/step - loss: 0.2624 - accuracy: 0.9256 - val_loss: 0.2493 - val_accuracy: 0.9300\n",
      "Epoch 13/25\n",
      "300/300 [==============================] - 2s 7ms/step - loss: 0.2538 - accuracy: 0.9283 - val_loss: 0.2417 - val_accuracy: 0.9304\n",
      "Epoch 14/25\n",
      "300/300 [==============================] - 2s 7ms/step - loss: 0.2456 - accuracy: 0.9310 - val_loss: 0.2351 - val_accuracy: 0.9320\n",
      "Epoch 15/25\n",
      "300/300 [==============================] - 2s 7ms/step - loss: 0.2381 - accuracy: 0.9327 - val_loss: 0.2290 - val_accuracy: 0.9347\n",
      "Epoch 16/25\n",
      "300/300 [==============================] - 2s 6ms/step - loss: 0.2309 - accuracy: 0.9351 - val_loss: 0.2231 - val_accuracy: 0.9356\n",
      "Epoch 17/25\n",
      "300/300 [==============================] - 2s 7ms/step - loss: 0.2242 - accuracy: 0.9370 - val_loss: 0.2168 - val_accuracy: 0.9379\n",
      "Epoch 18/25\n",
      "300/300 [==============================] - 2s 7ms/step - loss: 0.2178 - accuracy: 0.9387 - val_loss: 0.2113 - val_accuracy: 0.9389\n",
      "Epoch 19/25\n",
      "300/300 [==============================] - 2s 6ms/step - loss: 0.2119 - accuracy: 0.9408 - val_loss: 0.2056 - val_accuracy: 0.9396\n",
      "Epoch 20/25\n",
      "300/300 [==============================] - 2s 7ms/step - loss: 0.2062 - accuracy: 0.9429 - val_loss: 0.2017 - val_accuracy: 0.9419\n",
      "Epoch 21/25\n",
      "300/300 [==============================] - 2s 7ms/step - loss: 0.2008 - accuracy: 0.9437 - val_loss: 0.1963 - val_accuracy: 0.9426\n",
      "Epoch 22/25\n",
      "300/300 [==============================] - 2s 7ms/step - loss: 0.1956 - accuracy: 0.9451 - val_loss: 0.1917 - val_accuracy: 0.9444\n",
      "Epoch 23/25\n",
      "300/300 [==============================] - 2s 6ms/step - loss: 0.1906 - accuracy: 0.9469 - val_loss: 0.1881 - val_accuracy: 0.9447\n",
      "Epoch 24/25\n",
      "300/300 [==============================] - 2s 6ms/step - loss: 0.1859 - accuracy: 0.9477 - val_loss: 0.1837 - val_accuracy: 0.9469\n",
      "Epoch 25/25\n",
      "300/300 [==============================] - 2s 6ms/step - loss: 0.1815 - accuracy: 0.9488 - val_loss: 0.1800 - val_accuracy: 0.9477\n",
      "Model without regularization training completed.\n"
     ]
    }
   ],
   "source": [
    "history_without_reg = model.fit(x_train, y_train, batch_size=batch_size, epochs=epochs, validation_data=(x_test, y_test))\n",
    "print(\"Model without regularization training completed.\")"
   ]
  },
  {
   "cell_type": "markdown",
   "id": "d0bf19a7",
   "metadata": {},
   "source": [
    "### Evaluating the model"
   ]
  },
  {
   "cell_type": "code",
   "execution_count": 22,
   "id": "f6a5a149",
   "metadata": {},
   "outputs": [
    {
     "name": "stdout",
     "output_type": "stream",
     "text": [
      "313/313 [==============================] - 1s 2ms/step - loss: 0.1800 - accuracy: 0.9477\n",
      "Model without regularization - Test loss: 0.1800, Test accuracy: 94.77%\n"
     ]
    }
   ],
   "source": [
    "test_loss, test_acc = model.evaluate(x_test, y_test)\n",
    "print(\"Model without regularization - Test loss: {:.4f}, Test accuracy: {:.2f}%\".format(test_loss, test_acc*100))"
   ]
  },
  {
   "cell_type": "markdown",
   "id": "ba7f3c1e",
   "metadata": {},
   "source": [
    "## Model with regularization:"
   ]
  },
  {
   "cell_type": "markdown",
   "id": "5f88e5e9",
   "metadata": {},
   "source": [
    "### building model with L2 regularization:"
   ]
  },
  {
   "cell_type": "code",
   "execution_count": 23,
   "id": "d5de717b",
   "metadata": {},
   "outputs": [],
   "source": [
    "model_with_reg = Sequential()\n",
    "model_with_reg.add(Dense(hidden1, input_dim=input_size, activation='relu', kernel_regularizer=regularizers.l2(0.01)))\n",
    "model_with_reg.add(Dense(hidden2, activation='relu', kernel_regularizer=regularizers.l2(0.01)))\n",
    "model_with_reg.add(Dense(classes, activation='softmax'))"
   ]
  },
  {
   "cell_type": "markdown",
   "id": "0444e701",
   "metadata": {},
   "source": [
    "### compiling the model"
   ]
  },
  {
   "cell_type": "code",
   "execution_count": 24,
   "id": "b074f30d",
   "metadata": {},
   "outputs": [],
   "source": [
    "model_with_reg.compile(loss='categorical_crossentropy', metrics=['accuracy'], optimizer='sgd')"
   ]
  },
  {
   "cell_type": "markdown",
   "id": "43c0c881",
   "metadata": {},
   "source": [
    "### Model Summary"
   ]
  },
  {
   "cell_type": "code",
   "execution_count": 25,
   "id": "c6772608",
   "metadata": {},
   "outputs": [
    {
     "name": "stdout",
     "output_type": "stream",
     "text": [
      "Model: \"sequential_2\"\n",
      "_________________________________________________________________\n",
      " Layer (type)                Output Shape              Param #   \n",
      "=================================================================\n",
      " dense_6 (Dense)             (None, 400)               314000    \n",
      "                                                                 \n",
      " dense_7 (Dense)             (None, 20)                8020      \n",
      "                                                                 \n",
      " dense_8 (Dense)             (None, 10)                210       \n",
      "                                                                 \n",
      "=================================================================\n",
      "Total params: 322,230\n",
      "Trainable params: 322,230\n",
      "Non-trainable params: 0\n",
      "_________________________________________________________________\n"
     ]
    }
   ],
   "source": [
    "model_with_reg.summary()"
   ]
  },
  {
   "cell_type": "markdown",
   "id": "4dd7dc07",
   "metadata": {},
   "source": [
    "### Training Model:"
   ]
  },
  {
   "cell_type": "code",
   "execution_count": 26,
   "id": "c3d7267d",
   "metadata": {},
   "outputs": [
    {
     "name": "stdout",
     "output_type": "stream",
     "text": [
      "Epoch 1/25\n",
      "300/300 [==============================] - 4s 7ms/step - loss: 6.9625 - accuracy: 0.5598 - val_loss: 6.0725 - val_accuracy: 0.8049\n",
      "Epoch 2/25\n",
      "300/300 [==============================] - 2s 6ms/step - loss: 5.5876 - accuracy: 0.8334 - val_loss: 5.1524 - val_accuracy: 0.8725\n",
      "Epoch 3/25\n",
      "300/300 [==============================] - 2s 7ms/step - loss: 4.8651 - accuracy: 0.8731 - val_loss: 4.5558 - val_accuracy: 0.8930\n",
      "Epoch 4/25\n",
      "300/300 [==============================] - 2s 7ms/step - loss: 4.3288 - accuracy: 0.8881 - val_loss: 4.0708 - val_accuracy: 0.9019\n",
      "Epoch 5/25\n",
      "300/300 [==============================] - 2s 7ms/step - loss: 3.8790 - accuracy: 0.8968 - val_loss: 3.6557 - val_accuracy: 0.9087\n",
      "Epoch 6/25\n",
      "300/300 [==============================] - 2s 7ms/step - loss: 3.4893 - accuracy: 0.9024 - val_loss: 3.2926 - val_accuracy: 0.9126\n",
      "Epoch 7/25\n",
      "300/300 [==============================] - 2s 7ms/step - loss: 3.1476 - accuracy: 0.9068 - val_loss: 2.9725 - val_accuracy: 0.9160\n",
      "Epoch 8/25\n",
      "300/300 [==============================] - 2s 7ms/step - loss: 2.8465 - accuracy: 0.9095 - val_loss: 2.6914 - val_accuracy: 0.9172\n",
      "Epoch 9/25\n",
      "300/300 [==============================] - 2s 8ms/step - loss: 2.5801 - accuracy: 0.9122 - val_loss: 2.4411 - val_accuracy: 0.9200\n",
      "Epoch 10/25\n",
      "300/300 [==============================] - 2s 7ms/step - loss: 2.3443 - accuracy: 0.9144 - val_loss: 2.2204 - val_accuracy: 0.9200\n",
      "Epoch 11/25\n",
      "300/300 [==============================] - 2s 7ms/step - loss: 2.1351 - accuracy: 0.9160 - val_loss: 2.0234 - val_accuracy: 0.9230\n",
      "Epoch 12/25\n",
      "300/300 [==============================] - 2s 7ms/step - loss: 1.9497 - accuracy: 0.9174 - val_loss: 1.8497 - val_accuracy: 0.9235\n",
      "Epoch 13/25\n",
      "300/300 [==============================] - 2s 7ms/step - loss: 1.7852 - accuracy: 0.9192 - val_loss: 1.6959 - val_accuracy: 0.9255\n",
      "Epoch 14/25\n",
      "300/300 [==============================] - 2s 7ms/step - loss: 1.6389 - accuracy: 0.9205 - val_loss: 1.5582 - val_accuracy: 0.9266\n",
      "Epoch 15/25\n",
      "300/300 [==============================] - 2s 7ms/step - loss: 1.5090 - accuracy: 0.9215 - val_loss: 1.4364 - val_accuracy: 0.9274\n",
      "Epoch 16/25\n",
      "300/300 [==============================] - 2s 7ms/step - loss: 1.3935 - accuracy: 0.9221 - val_loss: 1.3277 - val_accuracy: 0.9281\n",
      "Epoch 17/25\n",
      "300/300 [==============================] - 3s 8ms/step - loss: 1.2905 - accuracy: 0.9231 - val_loss: 1.2314 - val_accuracy: 0.9290\n",
      "Epoch 18/25\n",
      "300/300 [==============================] - 2s 8ms/step - loss: 1.1992 - accuracy: 0.9242 - val_loss: 1.1450 - val_accuracy: 0.9289\n",
      "Epoch 19/25\n",
      "300/300 [==============================] - 2s 8ms/step - loss: 1.1178 - accuracy: 0.9251 - val_loss: 1.0693 - val_accuracy: 0.9289\n",
      "Epoch 20/25\n",
      "300/300 [==============================] - 2s 7ms/step - loss: 1.0452 - accuracy: 0.9259 - val_loss: 1.0011 - val_accuracy: 0.9310\n",
      "Epoch 21/25\n",
      "300/300 [==============================] - 2s 7ms/step - loss: 0.9805 - accuracy: 0.9266 - val_loss: 0.9395 - val_accuracy: 0.9305\n",
      "Epoch 22/25\n",
      "300/300 [==============================] - 2s 7ms/step - loss: 0.9227 - accuracy: 0.9274 - val_loss: 0.8858 - val_accuracy: 0.9307\n",
      "Epoch 23/25\n",
      "300/300 [==============================] - 2s 7ms/step - loss: 0.8713 - accuracy: 0.9284 - val_loss: 0.8371 - val_accuracy: 0.9317\n",
      "Epoch 24/25\n",
      "300/300 [==============================] - 2s 7ms/step - loss: 0.8254 - accuracy: 0.9291 - val_loss: 0.7945 - val_accuracy: 0.9320\n",
      "Epoch 25/25\n",
      "300/300 [==============================] - 2s 7ms/step - loss: 0.7841 - accuracy: 0.9295 - val_loss: 0.7551 - val_accuracy: 0.9342\n",
      "Model with regularization training completed.\n"
     ]
    }
   ],
   "source": [
    "history_with_reg = model_with_reg.fit(x_train, y_train, batch_size=batch_size, epochs=epochs, validation_data=(x_test, y_test))\n",
    "print(\"Model with regularization training completed.\")"
   ]
  },
  {
   "cell_type": "markdown",
   "id": "bf5f56c1",
   "metadata": {},
   "source": [
    "### Evaluate the model"
   ]
  },
  {
   "cell_type": "code",
   "execution_count": 27,
   "id": "6b8ed9c8",
   "metadata": {},
   "outputs": [
    {
     "name": "stdout",
     "output_type": "stream",
     "text": [
      "313/313 [==============================] - 1s 2ms/step - loss: 0.7551 - accuracy: 0.9342\n",
      "Model with regularization - Test loss: 0.7551, Test accuracy: 93.42%\n"
     ]
    }
   ],
   "source": [
    "test_loss_reg, test_acc_reg = model_with_reg.evaluate(x_test, y_test)\n",
    "print(\"Model with regularization - Test loss: {:.4f}, Test accuracy: {:.2f}%\".format(test_loss_reg, test_acc_reg*100))"
   ]
  },
  {
   "cell_type": "markdown",
   "id": "376858cf",
   "metadata": {},
   "source": [
    "### Plot the training and validation accuracy and loss for the models with and without regularization"
   ]
  },
  {
   "cell_type": "code",
   "execution_count": 28,
   "id": "89b68f6f",
   "metadata": {},
   "outputs": [
    {
     "data": {
      "text/plain": [
       "Text(0.5, 1.0, 'Training and Validation Accuracy')"
      ]
     },
     "execution_count": 28,
     "metadata": {},
     "output_type": "execute_result"
    },
    {
     "data": {
      "image/png": "[encoded data removed]",
      "text/plain": [
       "<Figure size 1080x360 with 1 Axes>"
      ]
     },
     "metadata": {
      "needs_background": "light"
     },
     "output_type": "display_data"
    }
   ],
   "source": [
    "plt.figure(figsize=(15, 5))\n",
    "plt.subplot(1, 2, 1)\n",
    "plt.plot(history_without_reg.history['accuracy'], label='Training Accuracy (no reg)', color='blue')\n",
    "plt.plot(history_with_reg.history['accuracy'], label='Training Accuracy (with reg)', color='red')\n",
    "plt.plot(history_without_reg.history['val_accuracy'], label='Validation Accuracy (no reg)', linestyle='--', color='blue')\n",
    "plt.plot(history_with_reg.history['val_accuracy'], label='Validation Accuracy (with reg)', linestyle='--', color='red')\n",
    "plt.legend()\n",
    "plt.title('Training and Validation Accuracy')"
   ]
  },
  {
   "cell_type": "markdown",
   "id": "c1d82700",
   "metadata": {},
   "source": [
    "The output graph shows the comparison of training and validation accuracy between two models - one without regularization and the other with regularization.\n",
    "\n",
    "The x-axis represents the number of epochs, and the y-axis represents the accuracy value. The solid lines represent the training accuracy of the models, while the dashed lines represent the validation accuracy.\n",
    "\n",
    "The blue lines represent the model without regularization, while the red lines represent the model with regularization.\n",
    "\n",
    "<b>Observations</b>:\n",
    "\n",
    "The training accuracy of both models increases as the number of epochs increases.\n",
    "The validation accuracy of both models also increases, but the model with regularization has a slightly better validation accuracy than the model without regularization.\n",
    "The training accuracy of the model without regularization is slightly better than the model with regularization.\n",
    "The validation accuracy of the model without regularization starts to decrease after 10 epochs, which could indicate overfitting, while the model with regularization maintains a steady validation accuracy.\n",
    "Overall, the model with regularization performs better than the model without regularization in terms of generalization, as it has a better validation accuracy and avoids overfitting."
   ]
  },
  {
   "cell_type": "code",
   "execution_count": 29,
   "id": "e3a2d1be",
   "metadata": {},
   "outputs": [
    {
     "data": {
      "image/png": "[encoded data removed]",
      "text/plain": [
       "<Figure size 432x288 with 1 Axes>"
      ]
     },
     "metadata": {
      "needs_background": "light"
     },
     "output_type": "display_data"
    }
   ],
   "source": [
    "plt.subplot(1, 2, 2)\n",
    "plt.plot(history_without_reg.history['loss'], label='Training Loss (no reg)', color='blue')\n",
    "plt.plot(history_with_reg.history['loss'], label='Training Loss (with reg)', color='red')\n",
    "plt.plot(history_without_reg.history['val_loss'], label='Validation Loss (no reg)', linestyle='--', color='blue')\n",
    "plt.plot(history_with_reg.history['val_loss'], label='Validation Loss (with reg)', linestyle='--', color='red')\n",
    "plt.legend()\n",
    "plt.title('Training and Validation Loss')\n",
    "plt.show()\n"
   ]
  },
  {
   "cell_type": "markdown",
   "id": "85fc5f7a",
   "metadata": {},
   "source": [
    "The output graph is a plot of training and validation loss over epochs for two models: one without regularization and one with regularization.\n",
    "\n",
    "The x-axis represents the number of epochs, while the y-axis represents the loss value. The blue lines represent the model without regularization, while the red lines represent the model with regularization.\n",
    "\n",
    "<b> Observations </b> :\n",
    "\n",
    "Both models start with a high training and validation loss but gradually decrease over the epochs.\n",
    "The training loss of the model without regularization decreases more quickly than the model with regularization, indicating that the former model is learning faster.\n",
    "However, the validation loss of the model without regularization starts increasing after a certain number of epochs, indicating overfitting, while the model with regularization has a consistently decreasing validation loss.\n",
    "This suggests that the model with regularization is better at generalizing to new data and is less likely to overfit.\n",
    "Overall, regularization helps to reduce overfitting and improve model generalization."
   ]
  },
  {
   "cell_type": "markdown",
   "id": "da58f2d6",
   "metadata": {},
   "source": [
    "# Mixture Density Networks: \n",
    "The FCN model is extended to a mixture density network (MDN) to generate probability distributions over the possible outputs rather than single values."
   ]
  },
  {
   "cell_type": "markdown",
   "id": "a1a7fb70",
   "metadata": {},
   "source": [
    "### Defining the MDN model"
   ]
  },
  {
   "cell_type": "code",
   "execution_count": 30,
   "id": "9789c6b0",
   "metadata": {},
   "outputs": [],
   "source": [
    "from tensorflow.keras.layers import Input, Dense, concatenate\n",
    "\n",
    "# Number of mixture components\n",
    "num_components = 5\n",
    "\n",
    "input_layer = layers.Input(shape=(784,))\n",
    "hidden_layer1 = layers.Dense(400, activation='relu')(input_layer)\n",
    "hidden_layer2 = layers.Dense(20, activation='relu')(hidden_layer1)\n",
    "mdn_layer = layers.Dense(num_components * 3, activation=None)(hidden_layer2)\n",
    "mean, std, logits = tf.split(mdn_layer, num_or_size_splits=3, axis=1)\n",
    "coeffs = tf.nn.softmax(logits)\n",
    "output_layer = layers.Concatenate(axis=1)([mean, std, coeffs])\n",
    "model_mdn = keras.Model(inputs=input_layer, outputs=output_layer)"
   ]
  },
  {
   "cell_type": "code",
   "execution_count": 31,
   "id": "31d2aebe",
   "metadata": {},
   "outputs": [],
   "source": [
    "# Define the MDN model\n",
    "model_mdn = Sequential()\n",
    "model_mdn.add(Dense(hidden1, input_dim=input_size, activation='relu'))\n",
    "model_mdn.add(Dense(hidden2, activation='relu'))\n",
    "model_mdn.add(Dense(num_components * 3, activation=None))"
   ]
  },
  {
   "cell_type": "markdown",
   "id": "32137d69",
   "metadata": {},
   "source": [
    "### Defining a custom layer for splitting the output of the MDN layer"
   ]
  },
  {
   "cell_type": "code",
   "execution_count": 32,
   "id": "4970ad6f",
   "metadata": {},
   "outputs": [],
   "source": [
    "class MDNSplitter(layers.Layer):\n",
    "    def __init__(self, num_components):\n",
    "        super(MDNSplitter, self).__init__()\n",
    "        self.num_components = num_components\n",
    "\n",
    "    def call(self, inputs):\n",
    "        mean, std, logits = tf.split(inputs, num_or_size_splits=3, axis=1)\n",
    "        return tf.concat([mean, std, tf.nn.softmax(logits)], axis=1)"
   ]
  },
  {
   "cell_type": "markdown",
   "id": "8318f5c3",
   "metadata": {},
   "source": [
    "### Defining the output layer with the MDNSplitter layer"
   ]
  },
  {
   "cell_type": "code",
   "execution_count": 33,
   "id": "3b31f389",
   "metadata": {},
   "outputs": [],
   "source": [
    "model_mdn.add(Dense(num_components * 3, activation=None))\n",
    "model_mdn.add(MDNSplitter(num_components))"
   ]
  },
  {
   "cell_type": "markdown",
   "id": "e5d7bbcc",
   "metadata": {},
   "source": [
    "### Defining the negative log likelihood loss function"
   ]
  },
  {
   "cell_type": "code",
   "execution_count": 34,
   "id": "694495fd",
   "metadata": {},
   "outputs": [],
   "source": [
    "def mdn_loss(y_true, y_pred):\n",
    "    means, stds, coeffs = y_pred\n",
    "    dist = tfp.distributions.MixtureSameFamily(\n",
    "        mixture_distribution=tfp.distributions.Categorical(probs=coeffs),\n",
    "        components_distribution=tfp.distributions.Normal(loc=means, scale=stds))\n",
    "    return -tf.reduce_mean(dist.log_prob(y_true))"
   ]
  },
  {
   "cell_type": "markdown",
   "id": "b5fe32ee",
   "metadata": {},
   "source": [
    "### Compiling the model with the mdn_loss function"
   ]
  },
  {
   "cell_type": "code",
   "execution_count": 35,
   "id": "be68d18e",
   "metadata": {},
   "outputs": [
    {
     "name": "stdout",
     "output_type": "stream",
     "text": [
      "Model: \"sequential_3\"\n",
      "_________________________________________________________________\n",
      " Layer (type)                Output Shape              Param #   \n",
      "=================================================================\n",
      " dense_12 (Dense)            (None, 400)               314000    \n",
      "                                                                 \n",
      " dense_13 (Dense)            (None, 20)                8020      \n",
      "                                                                 \n",
      " dense_14 (Dense)            (None, 15)                315       \n",
      "                                                                 \n",
      " dense_15 (Dense)            (None, 15)                240       \n",
      "                                                                 \n",
      " mdn_splitter (MDNSplitter)  (None, 15)                0         \n",
      "                                                                 \n",
      "=================================================================\n",
      "Total params: 322,575\n",
      "Trainable params: 322,575\n",
      "Non-trainable params: 0\n",
      "_________________________________________________________________\n"
     ]
    }
   ],
   "source": [
    "model_mdn.compile(loss=mdn_loss, optimizer='sgd')\n",
    "model_mdn.summary() "
   ]
  },
  {
   "cell_type": "markdown",
   "id": "62bdc7fc",
   "metadata": {},
   "source": [
    "### Training MDN model"
   ]
  },
  {
   "cell_type": "code",
   "execution_count": 36,
   "id": "5be23420",
   "metadata": {},
   "outputs": [
    {
     "name": "stdout",
     "output_type": "stream",
     "text": [
      "Epoch 1/10\n",
      "469/469 [==============================] - 3s 5ms/step - loss: 0.1767 - accuracy: 0.9501 - val_loss: 0.1745 - val_accuracy: 0.9489\n",
      "Epoch 2/10\n",
      "469/469 [==============================] - 2s 5ms/step - loss: 0.1705 - accuracy: 0.9519 - val_loss: 0.1685 - val_accuracy: 0.9504\n",
      "Epoch 3/10\n",
      "469/469 [==============================] - 3s 6ms/step - loss: 0.1645 - accuracy: 0.9537 - val_loss: 0.1654 - val_accuracy: 0.9513\n",
      "Epoch 4/10\n",
      "469/469 [==============================] - 3s 6ms/step - loss: 0.1588 - accuracy: 0.9551 - val_loss: 0.1592 - val_accuracy: 0.9522\n",
      "Epoch 5/10\n",
      "469/469 [==============================] - 3s 5ms/step - loss: 0.1535 - accuracy: 0.9570 - val_loss: 0.1585 - val_accuracy: 0.9533\n",
      "Epoch 6/10\n",
      "469/469 [==============================] - 2s 5ms/step - loss: 0.1485 - accuracy: 0.9584 - val_loss: 0.1516 - val_accuracy: 0.9544\n",
      "Epoch 7/10\n",
      "469/469 [==============================] - 3s 6ms/step - loss: 0.1437 - accuracy: 0.9595 - val_loss: 0.1475 - val_accuracy: 0.9567\n",
      "Epoch 8/10\n",
      "469/469 [==============================] - 3s 6ms/step - loss: 0.1391 - accuracy: 0.9614 - val_loss: 0.1434 - val_accuracy: 0.9578\n",
      "Epoch 9/10\n",
      "469/469 [==============================] - 3s 6ms/step - loss: 0.1347 - accuracy: 0.9625 - val_loss: 0.1404 - val_accuracy: 0.9584\n",
      "Epoch 10/10\n",
      "469/469 [==============================] - 2s 5ms/step - loss: 0.1308 - accuracy: 0.9636 - val_loss: 0.1366 - val_accuracy: 0.9600\n",
      "MDN training completed.\n"
     ]
    }
   ],
   "source": [
    "MDN_TRAIN = model.fit(x_train.reshape(-1, 784), y_train, epochs=10, batch_size=128, validation_data=(x_test, y_test))\n",
    "print(\"MDN training completed.\")"
   ]
  },
  {
   "cell_type": "markdown",
   "id": "2422d0e3",
   "metadata": {},
   "source": [
    "### Evaluating model on test data"
   ]
  },
  {
   "cell_type": "code",
   "execution_count": 37,
   "id": "82dec455",
   "metadata": {},
   "outputs": [],
   "source": [
    "#score1 = model.evaluate(x_test.reshape(-1, 784), y_test)"
   ]
  },
  {
   "cell_type": "code",
   "execution_count": 38,
   "id": "8b5397b0",
   "metadata": {},
   "outputs": [
    {
     "name": "stdout",
     "output_type": "stream",
     "text": [
      "313/313 [==============================] - 1s 2ms/step - loss: 0.1366 - accuracy: 0.9600\n",
      "Model with MDN - Test loss: 0.1366, Test accuracy: 96.00%\n"
     ]
    }
   ],
   "source": [
    "score2 = model.evaluate(x_test.reshape(-1, 784), y_test)\n",
    "print(\"Model with MDN - Test loss: {:.4f}, Test accuracy: {:.2f}%\".format(score2[0], score2[1]*100))\n"
   ]
  },
  {
   "cell_type": "markdown",
   "id": "30de995f",
   "metadata": {},
   "source": [
    "### MDN model's test accuracy"
   ]
  },
  {
   "cell_type": "code",
   "execution_count": 39,
   "id": "59313483",
   "metadata": {},
   "outputs": [
    {
     "name": "stdout",
     "output_type": "stream",
     "text": [
      "Epoch 1/50\n",
      "469/469 [==============================] - 2s 5ms/step - loss: 0.1270 - accuracy: 0.9647 - val_loss: 0.1330 - val_accuracy: 0.9604\n",
      "Epoch 2/50\n",
      "469/469 [==============================] - 2s 5ms/step - loss: 0.1232 - accuracy: 0.9657 - val_loss: 0.1311 - val_accuracy: 0.9616\n",
      "Epoch 3/50\n",
      "469/469 [==============================] - 2s 5ms/step - loss: 0.1198 - accuracy: 0.9674 - val_loss: 0.1287 - val_accuracy: 0.9621\n",
      "Epoch 4/50\n",
      "469/469 [==============================] - 3s 6ms/step - loss: 0.1165 - accuracy: 0.9679 - val_loss: 0.1257 - val_accuracy: 0.9625\n",
      "Epoch 5/50\n",
      "469/469 [==============================] - 3s 6ms/step - loss: 0.1132 - accuracy: 0.9689 - val_loss: 0.1231 - val_accuracy: 0.9640\n",
      "Epoch 6/50\n",
      "469/469 [==============================] - 3s 6ms/step - loss: 0.1102 - accuracy: 0.9693 - val_loss: 0.1205 - val_accuracy: 0.9648\n",
      "Epoch 7/50\n",
      "469/469 [==============================] - 3s 7ms/step - loss: 0.1073 - accuracy: 0.9705 - val_loss: 0.1181 - val_accuracy: 0.9656\n",
      "Epoch 8/50\n",
      "469/469 [==============================] - 3s 6ms/step - loss: 0.1043 - accuracy: 0.9714 - val_loss: 0.1166 - val_accuracy: 0.9661\n",
      "Epoch 9/50\n",
      "469/469 [==============================] - 3s 7ms/step - loss: 0.1017 - accuracy: 0.9723 - val_loss: 0.1137 - val_accuracy: 0.9665\n",
      "Epoch 10/50\n",
      "469/469 [==============================] - 3s 6ms/step - loss: 0.0992 - accuracy: 0.9727 - val_loss: 0.1122 - val_accuracy: 0.9676\n",
      "Epoch 11/50\n",
      "469/469 [==============================] - 3s 6ms/step - loss: 0.0966 - accuracy: 0.9737 - val_loss: 0.1098 - val_accuracy: 0.9669\n",
      "Epoch 12/50\n",
      "469/469 [==============================] - 3s 7ms/step - loss: 0.0943 - accuracy: 0.9743 - val_loss: 0.1082 - val_accuracy: 0.9686\n",
      "Epoch 13/50\n",
      "469/469 [==============================] - 3s 7ms/step - loss: 0.0920 - accuracy: 0.9749 - val_loss: 0.1060 - val_accuracy: 0.9685\n",
      "Epoch 14/50\n",
      "469/469 [==============================] - 3s 7ms/step - loss: 0.0898 - accuracy: 0.9755 - val_loss: 0.1044 - val_accuracy: 0.9690\n",
      "Epoch 15/50\n",
      "469/469 [==============================] - 3s 6ms/step - loss: 0.0875 - accuracy: 0.9761 - val_loss: 0.1047 - val_accuracy: 0.9688\n",
      "Epoch 16/50\n",
      "469/469 [==============================] - 2s 5ms/step - loss: 0.0853 - accuracy: 0.9772 - val_loss: 0.1020 - val_accuracy: 0.9701\n",
      "Epoch 17/50\n",
      "469/469 [==============================] - 3s 6ms/step - loss: 0.0835 - accuracy: 0.9775 - val_loss: 0.1007 - val_accuracy: 0.9706\n",
      "Epoch 18/50\n",
      "469/469 [==============================] - 3s 5ms/step - loss: 0.0815 - accuracy: 0.9778 - val_loss: 0.1009 - val_accuracy: 0.9702\n",
      "Epoch 19/50\n",
      "469/469 [==============================] - 3s 6ms/step - loss: 0.0796 - accuracy: 0.9787 - val_loss: 0.0975 - val_accuracy: 0.9711\n",
      "Epoch 20/50\n",
      "469/469 [==============================] - 3s 6ms/step - loss: 0.0778 - accuracy: 0.9791 - val_loss: 0.0969 - val_accuracy: 0.9715\n",
      "Epoch 21/50\n",
      "469/469 [==============================] - 3s 7ms/step - loss: 0.0760 - accuracy: 0.9796 - val_loss: 0.0957 - val_accuracy: 0.9716\n",
      "Epoch 22/50\n",
      "469/469 [==============================] - 3s 7ms/step - loss: 0.0745 - accuracy: 0.9804 - val_loss: 0.0955 - val_accuracy: 0.9720\n",
      "Epoch 23/50\n",
      "469/469 [==============================] - 3s 7ms/step - loss: 0.0728 - accuracy: 0.9808 - val_loss: 0.0936 - val_accuracy: 0.9724\n",
      "Epoch 24/50\n",
      "469/469 [==============================] - 3s 7ms/step - loss: 0.0713 - accuracy: 0.9815 - val_loss: 0.0923 - val_accuracy: 0.9733\n",
      "Epoch 25/50\n",
      "469/469 [==============================] - 3s 7ms/step - loss: 0.0697 - accuracy: 0.9816 - val_loss: 0.0912 - val_accuracy: 0.9726\n",
      "Epoch 26/50\n",
      "469/469 [==============================] - 3s 7ms/step - loss: 0.0682 - accuracy: 0.9820 - val_loss: 0.0910 - val_accuracy: 0.9735\n",
      "Epoch 27/50\n",
      "469/469 [==============================] - 3s 6ms/step - loss: 0.0668 - accuracy: 0.9826 - val_loss: 0.0898 - val_accuracy: 0.9737\n",
      "Epoch 28/50\n",
      "469/469 [==============================] - 3s 6ms/step - loss: 0.0654 - accuracy: 0.9832 - val_loss: 0.0888 - val_accuracy: 0.9741\n",
      "Epoch 29/50\n",
      "469/469 [==============================] - 3s 7ms/step - loss: 0.0640 - accuracy: 0.9835 - val_loss: 0.0886 - val_accuracy: 0.9737\n",
      "Epoch 30/50\n",
      "469/469 [==============================] - 3s 7ms/step - loss: 0.0627 - accuracy: 0.9837 - val_loss: 0.0875 - val_accuracy: 0.9743\n",
      "Epoch 31/50\n",
      "469/469 [==============================] - 3s 6ms/step - loss: 0.0613 - accuracy: 0.9842 - val_loss: 0.0871 - val_accuracy: 0.9738\n",
      "Epoch 32/50\n",
      "469/469 [==============================] - 3s 7ms/step - loss: 0.0601 - accuracy: 0.9844 - val_loss: 0.0862 - val_accuracy: 0.9741\n",
      "Epoch 33/50\n",
      "469/469 [==============================] - 3s 6ms/step - loss: 0.0589 - accuracy: 0.9851 - val_loss: 0.0851 - val_accuracy: 0.9741\n",
      "Epoch 34/50\n",
      "469/469 [==============================] - 3s 6ms/step - loss: 0.0577 - accuracy: 0.9855 - val_loss: 0.0847 - val_accuracy: 0.9745\n",
      "Epoch 35/50\n",
      "469/469 [==============================] - 2s 5ms/step - loss: 0.0566 - accuracy: 0.9854 - val_loss: 0.0847 - val_accuracy: 0.9744\n",
      "Epoch 36/50\n",
      "469/469 [==============================] - 3s 6ms/step - loss: 0.0556 - accuracy: 0.9858 - val_loss: 0.0832 - val_accuracy: 0.9745\n",
      "Epoch 37/50\n",
      "469/469 [==============================] - 3s 6ms/step - loss: 0.0545 - accuracy: 0.9858 - val_loss: 0.0826 - val_accuracy: 0.9752\n",
      "Epoch 38/50\n",
      "469/469 [==============================] - 3s 6ms/step - loss: 0.0534 - accuracy: 0.9864 - val_loss: 0.0822 - val_accuracy: 0.9744\n",
      "Epoch 39/50\n",
      "469/469 [==============================] - 3s 6ms/step - loss: 0.0524 - accuracy: 0.9869 - val_loss: 0.0817 - val_accuracy: 0.9756\n",
      "Epoch 40/50\n",
      "469/469 [==============================] - 3s 6ms/step - loss: 0.0512 - accuracy: 0.9870 - val_loss: 0.0807 - val_accuracy: 0.9753\n",
      "Epoch 41/50\n",
      "469/469 [==============================] - 3s 6ms/step - loss: 0.0504 - accuracy: 0.9872 - val_loss: 0.0809 - val_accuracy: 0.9758\n",
      "Epoch 42/50\n",
      "469/469 [==============================] - 3s 7ms/step - loss: 0.0494 - accuracy: 0.9880 - val_loss: 0.0808 - val_accuracy: 0.9755\n",
      "Epoch 43/50\n",
      "469/469 [==============================] - 3s 6ms/step - loss: 0.0484 - accuracy: 0.9880 - val_loss: 0.0800 - val_accuracy: 0.9759\n",
      "Epoch 44/50\n",
      "469/469 [==============================] - 3s 6ms/step - loss: 0.0476 - accuracy: 0.9883 - val_loss: 0.0794 - val_accuracy: 0.9761\n",
      "Epoch 45/50\n",
      "469/469 [==============================] - 3s 7ms/step - loss: 0.0467 - accuracy: 0.9885 - val_loss: 0.0788 - val_accuracy: 0.9751\n",
      "Epoch 46/50\n",
      "469/469 [==============================] - 3s 7ms/step - loss: 0.0458 - accuracy: 0.9886 - val_loss: 0.0784 - val_accuracy: 0.9763\n",
      "Epoch 47/50\n",
      "469/469 [==============================] - 3s 7ms/step - loss: 0.0450 - accuracy: 0.9889 - val_loss: 0.0775 - val_accuracy: 0.9757\n",
      "Epoch 48/50\n",
      "469/469 [==============================] - 3s 7ms/step - loss: 0.0442 - accuracy: 0.9891 - val_loss: 0.0777 - val_accuracy: 0.9764\n",
      "Epoch 49/50\n",
      "469/469 [==============================] - 3s 7ms/step - loss: 0.0433 - accuracy: 0.9895 - val_loss: 0.0769 - val_accuracy: 0.9767\n",
      "Epoch 50/50\n",
      "469/469 [==============================] - 4s 8ms/step - loss: 0.0426 - accuracy: 0.9896 - val_loss: 0.0773 - val_accuracy: 0.9769\n",
      "MDN training completed after 50 epochs.\n"
     ]
    }
   ],
   "source": [
    "# Training the model for 50 epochs\n",
    "MDN_TRAIN = model.fit(x_train.reshape(-1, 784), y_train, epochs=50, batch_size=128, validation_data=(x_test, y_test))\n",
    "print(\"MDN training completed after 50 epochs.\")"
   ]
  },
  {
   "cell_type": "code",
   "execution_count": 40,
   "id": "4a3edbc8",
   "metadata": {},
   "outputs": [
    {
     "name": "stdout",
     "output_type": "stream",
     "text": [
      "32/32 [==============================] - 0s 3ms/step\n"
     ]
    }
   ],
   "source": [
    "# Generate samples from the MDN model\n",
    "x = np.linspace(-5, 5, num=1000).reshape(-1, 1)\n",
    "x = np.hstack([x] * 784)  # reshape to (1000, 784)\n",
    "preds = model_mdn.predict(x)\n",
    "means = preds[:, :num_components]\n",
    "stds = preds[:, num_components:num_components * 2]\n",
    "coeffs = preds[:, num_components * 2:]\n",
    "\n",
    "# Sample from the Gaussian mixture model using the predicted parameters\n",
    "dist = tfp.distributions.MixtureSameFamily(\n",
    "    mixture_distribution=tfp.distributions.Categorical(probs=coeffs),\n",
    "    components_distribution=tfp.distributions.Normal(loc=means, scale=stds))\n",
    "samples = dist.sample(5000).numpy()"
   ]
  },
  {
   "cell_type": "code",
   "execution_count": 41,
   "id": "883e3918",
   "metadata": {
    "scrolled": true
   },
   "outputs": [
    {
     "data": {
      "image/png": "[encoded data removed]",
      "text/plain": [
       "<Figure size 432x288 with 1 Axes>"
      ]
     },
     "metadata": {
      "needs_background": "light"
     },
     "output_type": "display_data"
    }
   ],
   "source": [
    "# Plot the probability density function of the sampled values\n",
    "fig, ax = plt.subplots()\n",
    "ax.hist(samples.flatten(), bins=200, density=True, alpha=0.5)\n",
    "ax.set_title('MDN Probability Distribution')\n",
    "plt.show()"
   ]
  },
  {
   "cell_type": "markdown",
   "id": "94e7fe6d",
   "metadata": {},
   "source": [
    "The output graph shows a probability density function of the sampled values generated from the Mixture Density Network (MDN) model. The x-axis represents the range of values that can be generated, while the y-axis represents the probability density of each value.\n",
    "\n",
    "<b> Observations of the code </b>:\n",
    "\n",
    "The code first generates a set of 1000 points in the range of -5 to 5 and then reshapes it to (1000, 784). Then it predicts the mean, standard deviation, and coefficients using the MDN model. The predicted parameters are then used to sample 5000 values from the Gaussian mixture model. Finally, the probability density function plot is created using the histogram of the sampled values with 200 bins and alpha=0.5.\n",
    "\n",
    "The plot shows the distribution of the sampled values and how probable they are, with the highest probability values having the highest density. It can be observed that the plot has multiple peaks, indicating the presence of multiple Gaussian distributions. This is because the MDN model generates a mixture of Gaussian distributions, which can be used to represent complex probability distributions. The plot also shows that the sampled values are mostly concentrated in the range of -2 to 2, which is the range of the input data used to train the model."
   ]
  },
  {
   "cell_type": "markdown",
   "id": "6c1d9918",
   "metadata": {},
   "source": [
    "# <u> Evaluation</u> :\n",
    "The performance of the MDN model is evaluated and compared with the FCN model to determine its effectiveness in handwritten digit recognition."
   ]
  },
  {
   "cell_type": "markdown",
   "id": "18850bb7",
   "metadata": {},
   "source": [
    "### Evaluating the performance of the model using evaluation metrics such as accuracy, precision, recall, and F1-score"
   ]
  },
  {
   "cell_type": "code",
   "execution_count": 42,
   "id": "5426d864",
   "metadata": {},
   "outputs": [
    {
     "name": "stdout",
     "output_type": "stream",
     "text": [
      "313/313 [==============================] - 1s 2ms/step\n",
      "Accuracy: 97.69%\n",
      "Precision: 97.68%\n",
      "Recall: 97.68%\n",
      "F1-score: 97.68%\n"
     ]
    }
   ],
   "source": [
    "# Evaluate the model on test data\n",
    "\n",
    "from sklearn.metrics import accuracy_score, precision_score, recall_score, f1_score\n",
    "\n",
    "y_pred = model.predict(x_test)\n",
    "y_pred_labels = np.argmax(y_pred, axis=1)\n",
    "y_true_labels = np.argmax(y_test, axis=1)\n",
    "accuracy = accuracy_score(y_true_labels, y_pred_labels)\n",
    "precision = precision_score(y_true_labels, y_pred_labels, average='macro')\n",
    "recall = recall_score(y_true_labels, y_pred_labels, average='macro')\n",
    "f1 = f1_score(y_true_labels, y_pred_labels, average='macro')\n",
    "\n",
    "print('Accuracy: {:.2%}'.format(accuracy))\n",
    "print('Precision: {:.2%}'.format(precision))\n",
    "print('Recall: {:.2%}'.format(recall))\n",
    "print('F1-score: {:.2%}'.format(f1))\n"
   ]
  },
  {
   "cell_type": "markdown",
   "id": "97af3d65",
   "metadata": {},
   "source": [
    "### Generating classification report and confusion matrix"
   ]
  },
  {
   "cell_type": "code",
   "execution_count": 43,
   "id": "9892b116",
   "metadata": {},
   "outputs": [
    {
     "name": "stdout",
     "output_type": "stream",
     "text": [
      "Classification Report:\n",
      "               precision    recall  f1-score   support\n",
      "\n",
      "           0       0.98      0.99      0.98       980\n",
      "           1       0.99      0.99      0.99      1135\n",
      "           2       0.97      0.98      0.97      1032\n",
      "           3       0.97      0.98      0.98      1010\n",
      "           4       0.97      0.98      0.97       982\n",
      "           5       0.98      0.98      0.98       892\n",
      "           6       0.98      0.98      0.98       958\n",
      "           7       0.98      0.97      0.98      1028\n",
      "           8       0.98      0.96      0.97       974\n",
      "           9       0.97      0.96      0.97      1009\n",
      "\n",
      "    accuracy                           0.98     10000\n",
      "   macro avg       0.98      0.98      0.98     10000\n",
      "weighted avg       0.98      0.98      0.98     10000\n",
      "\n"
     ]
    },
    {
     "data": {
      "image/png": "[encoded data removed]",
      "text/plain": [
       "<Figure size 432x288 with 2 Axes>"
      ]
     },
     "metadata": {
      "needs_background": "light"
     },
     "output_type": "display_data"
    }
   ],
   "source": [
    "from sklearn.metrics import classification_report\n",
    "\n",
    "class_report = classification_report(y_true_labels, y_pred_labels)\n",
    "conf_mat = confusion_matrix(y_true_labels, y_pred_labels)\n",
    "\n",
    "print('Classification Report:\\n', class_report)\n",
    "plt.imshow(conf_mat, cmap=plt.cm.Blues)\n",
    "plt.colorbar()\n",
    "plt.xticks(np.arange(10))\n",
    "plt.yticks(np.arange(10))\n",
    "plt.xlabel('Predicted Label')\n",
    "plt.ylabel('True Label')\n",
    "plt.show()"
   ]
  },
  {
   "cell_type": "markdown",
   "id": "9f6d2eea",
   "metadata": {},
   "source": [
    "The output graph is a confusion matrix that represents the performance of the model in terms of correctly and incorrectly classified samples for each class. The rows represent the true labels of the samples, while the columns represent the predicted labels of the samples. Each cell in the matrix represents the number of samples that belong to a particular true label and have been classified as a particular predicted label. The diagonal elements represent the correctly classified samples, while the off-diagonal elements represent the incorrectly classified samples.\n",
    "\n",
    "The color intensity of each cell in the matrix represents the number of samples in that particular cell. The darker the color, the larger the number of samples in that cell."
   ]
  },
  {
   "cell_type": "markdown",
   "id": "09fc269c",
   "metadata": {},
   "source": [
    "### Displaying Model Accuracy"
   ]
  },
  {
   "cell_type": "code",
   "execution_count": 44,
   "id": "ccc3335c",
   "metadata": {},
   "outputs": [
    {
     "name": "stdout",
     "output_type": "stream",
     "text": [
      "313/313 [==============================] - 1s 2ms/step\n"
     ]
    },
    {
     "data": {
      "image/png": "[encoded data removed]",
      "text/plain": [
       "<Figure size 1440x288 with 15 Axes>"
      ]
     },
     "metadata": {
      "needs_background": "light"
     },
     "output_type": "display_data"
    },
    {
     "name": "stdout",
     "output_type": "stream",
     "text": [
      "The model accuracy on the test set is 97.69%\n",
      "Congratulations! The model achieved high accuracy.\n"
     ]
    }
   ],
   "source": [
    "#Predicting the classes of test images\n",
    "y_pred_probs = model.predict(x_test)\n",
    "y_pred = np.argmax(y_pred_probs, axis=1)\n",
    "\n",
    "#Displaying the first 10 test images along with the predicted class and actual class\n",
    "plt.figure(figsize=(20, 4))\n",
    "for i in range(15):\n",
    "    ax = plt.subplot(1, 15, i + 1)\n",
    "    plt.imshow(x_test[i].reshape(28, 28), cmap='gray')\n",
    "    plt.title(\"Pred: {}\\nTrue: {}\".format(y_pred[i], np.argmax(y_test[i])))\n",
    "    ax.axis('off')\n",
    "plt.show()\n",
    "\n",
    "\n",
    "# Evaluating model accuracy\n",
    "test_loss, test_accuracy = model.evaluate(x_test, y_test, verbose=0)\n",
    "\n",
    "# Displaying the model accuracy\n",
    "if test_accuracy == 1:\n",
    "    print(\"Congratulations! The model has achieved 100% accuracy on the test set!\")\n",
    "else:\n",
    "    print(\"The model accuracy on the test set is {:.2f}%\".format(test_accuracy*100))\n",
    "    \n",
    "#End-note\n",
    "if score2[1] > 0.95:\n",
    "    print(\"Congratulations! The model achieved high accuracy.\")\n",
    "    model_mdn.save(\"model_mdn.h5\")"
   ]
  },
  {
   "cell_type": "markdown",
   "id": "67438747",
   "metadata": {},
   "source": [
    "<b>Observations</b>:\n",
    "\n",
    "The model seems to be performing well on the test set as most of the predicted classes match the true classes.\n",
    "Overall, the model's accuracy on the test set is displayed at the end of the code. \n",
    "If the accuracy is 1, then it means the model has achieved 100% accuracy on the test set, else it shows the model's accuracy as a percentage.\n"
   ]
  }
 ],
 "metadata": {
  "kernelspec": {
   "display_name": "Python 3 (ipykernel)",
   "language": "python",
   "name": "python3"
  },
  "language_info": {
   "codemirror_mode": {
    "name": "ipython",
    "version": 3
   },
   "file_extension": ".py",
   "mimetype": "text/x-python",
   "name": "python",
   "nbconvert_exporter": "python",
   "pygments_lexer": "ipython3",
   "version": "3.9.12"
  }
 },
 "nbformat": 4,
 "nbformat_minor": 5
}
