{
 "cells": [
  {
   "cell_type": "markdown",
   "id": "8a381b23",
   "metadata": {},
   "source": [
    "# <u> Importing libraries </u> :"
   ]
  },
  {
   "cell_type": "code",
   "execution_count": 1,
   "id": "0cf9a50c",
   "metadata": {},
   "outputs": [],
   "source": [
    "import matplotlib.pyplot as plt\n",
    "import numpy as np\n",
    "import tensorflow as tf\n",
    "import tensorflow_probability as tfp\n",
    "from tensorflow.keras import layers\n",
    "from keras.datasets import mnist\n",
    "from keras.models import Sequential \n",
    "from keras.layers.core import Dense, Activation\n",
    "from keras.utils import np_utils\n",
    "from tensorflow import keras\n",
    "from tensorflow.keras.datasets import mnist\n",
    "from tensorflow.keras.optimizers import Adam\n",
    "from tensorflow.keras.utils import to_categorical"
   ]
  },
  {
   "cell_type": "markdown",
   "id": "5cda8e55",
   "metadata": {},
   "source": [
    "# <u> Loading the Dataset</u> :"
   ]
  },
  {
   "cell_type": "code",
   "execution_count": 2,
   "id": "085f3adb",
   "metadata": {},
   "outputs": [],
   "source": [
    "(x_train, y_train), (x_test, y_test) = mnist.load_data()"
   ]
  },
  {
   "cell_type": "markdown",
   "id": "05ea1d82",
   "metadata": {},
   "source": [
    "# <u> Data Processing </u> :"
   ]
  },
  {
   "cell_type": "code",
   "execution_count": 3,
   "id": "12740316",
   "metadata": {},
   "outputs": [
    {
     "data": {
      "image/png": "[encoded data removed]",
      "text/plain": [
       "<Figure size 720x720 with 25 Axes>"
      ]
     },
     "metadata": {
      "needs_background": "light"
     },
     "output_type": "display_data"
    }
   ],
   "source": [
    "# Display the first 25 images from the training set\n",
    "fig, axs = plt.subplots(5, 5, figsize=(10,10))\n",
    "axs = axs.ravel()\n",
    "\n",
    "for i in range(25):\n",
    "    axs[i].imshow(x_train[i], cmap='gray')\n",
    "    axs[i].axis('off')\n",
    "    axs[i].set_title(str(y_train[i]))\n",
    "plt.show()"
   ]
  },
  {
   "cell_type": "code",
   "execution_count": 4,
   "id": "1afd29e2",
   "metadata": {},
   "outputs": [
    {
     "name": "stdout",
     "output_type": "stream",
     "text": [
      "Previous X_train shape: (60000, 28, 28) \n",
      "Previous Y_train shape:(60000,)\n"
     ]
    }
   ],
   "source": [
    "print(\"Previous X_train shape: {} \\nPrevious Y_train shape:{}\".format(x_train.shape, y_train.shape))\n",
    "x_train = x_train.reshape(60000, 784)     \n",
    "x_test = x_test.reshape(10000, 784)"
   ]
  },
  {
   "cell_type": "code",
   "execution_count": 5,
   "id": "7bd1a648",
   "metadata": {},
   "outputs": [
    {
     "name": "stdout",
     "output_type": "stream",
     "text": [
      "New X_train shape: (60000, 784) \n",
      "New Y_train shape:(60000, 10)\n"
     ]
    }
   ],
   "source": [
    "x_train = x_train.astype('float32')     \n",
    "x_test = x_test.astype('float32')     \n",
    "x_train /= 255    \n",
    "x_test /= 255\n",
    "classes = 10\n",
    "y_train = np_utils.to_categorical(y_train, classes)     \n",
    "y_test = np_utils.to_categorical(y_test, classes)\n",
    "print(\"New X_train shape: {} \\nNew Y_train shape:{}\".format(x_train.shape, y_train.shape))"
   ]
  },
  {
   "cell_type": "markdown",
   "id": "d598fc50",
   "metadata": {},
   "source": [
    "# <u> Model architecture</u> : \n",
    "The FCN model is designed to have an input layer of size 784 (28x28 pixels), two hidden layers with 400 and 20 neurons respectively, and an output layer with 10 neurons (corresponding to the 10 digits 0-9). The activation function used in the hidden layers is the rectified linear unit (ReLU) and the softmax function is used in the output layer to generate probability distributions over the 10 classes.\n",
    "\n",
    "### Setting up parameters"
   ]
  },
  {
   "cell_type": "code",
   "execution_count": 6,
   "id": "6b162491",
   "metadata": {},
   "outputs": [],
   "source": [
    "input_size = 784\n",
    "batch_size = 200   \n",
    "hidden1 = 400\n",
    "hidden2 = 20\n",
    "epochs = 25"
   ]
  },
  {
   "cell_type": "markdown",
   "id": "e443c6b2",
   "metadata": {},
   "source": [
    "### Building the FCN Model"
   ]
  },
  {
   "cell_type": "code",
   "execution_count": 7,
   "id": "fcc6794d",
   "metadata": {},
   "outputs": [
    {
     "name": "stdout",
     "output_type": "stream",
     "text": [
      "Model: \"sequential\"\n",
      "_________________________________________________________________\n",
      " Layer (type)                Output Shape              Param #   \n",
      "=================================================================\n",
      " dense (Dense)               (None, 400)               314000    \n",
      "                                                                 \n",
      " dense_1 (Dense)             (None, 20)                8020      \n",
      "                                                                 \n",
      " dense_2 (Dense)             (None, 10)                210       \n",
      "                                                                 \n",
      "=================================================================\n",
      "Total params: 322,230\n",
      "Trainable params: 322,230\n",
      "Non-trainable params: 0\n",
      "_________________________________________________________________\n"
     ]
    }
   ],
   "source": [
    "#Build the model\n",
    "model = Sequential()     \n",
    "model.add(Dense(hidden1, input_dim=input_size, activation='relu'))\n",
    "\n",
    "# output = relu (dot (W, input) + bias)\n",
    "model.add(Dense(hidden2, activation='relu'))\n",
    "model.add(Dense(classes, activation='softmax')) \n",
    "\n",
    "# Compilation\n",
    "model.compile(loss='categorical_crossentropy', metrics=['accuracy'], optimizer='sgd')\n",
    "model.summary()"
   ]
  },
  {
   "cell_type": "markdown",
   "id": "d375df19",
   "metadata": {},
   "source": [
    "### Fitting on Data"
   ]
  },
  {
   "cell_type": "code",
   "execution_count": 8,
   "id": "0e94e846",
   "metadata": {},
   "outputs": [
    {
     "name": "stdout",
     "output_type": "stream",
     "text": [
      "Epoch 1/10\n",
      "300/300 - 9s - loss: 1.6331 - accuracy: 0.5251 - 9s/epoch - 29ms/step\n",
      "Epoch 2/10\n",
      "300/300 - 4s - loss: 0.7441 - accuracy: 0.8319 - 4s/epoch - 14ms/step\n",
      "Epoch 3/10\n",
      "300/300 - 4s - loss: 0.4900 - accuracy: 0.8750 - 4s/epoch - 14ms/step\n",
      "Epoch 4/10\n",
      "300/300 - 3s - loss: 0.4029 - accuracy: 0.8923 - 3s/epoch - 9ms/step\n",
      "Epoch 5/10\n",
      "300/300 - 4s - loss: 0.3586 - accuracy: 0.9012 - 4s/epoch - 13ms/step\n",
      "Epoch 6/10\n",
      "300/300 - 2s - loss: 0.3303 - accuracy: 0.9081 - 2s/epoch - 8ms/step\n",
      "Epoch 7/10\n",
      "300/300 - 2s - loss: 0.3097 - accuracy: 0.9130 - 2s/epoch - 8ms/step\n",
      "Epoch 8/10\n",
      "300/300 - 3s - loss: 0.2934 - accuracy: 0.9175 - 3s/epoch - 10ms/step\n",
      "Epoch 9/10\n",
      "300/300 - 3s - loss: 0.2797 - accuracy: 0.9211 - 3s/epoch - 10ms/step\n",
      "Epoch 10/10\n",
      "300/300 - 3s - loss: 0.2677 - accuracy: 0.9240 - 3s/epoch - 10ms/step\n"
     ]
    },
    {
     "data": {
      "text/plain": [
       "<keras.callbacks.History at 0x192dc37d8e0>"
      ]
     },
     "execution_count": 8,
     "metadata": {},
     "output_type": "execute_result"
    }
   ],
   "source": [
    "model.fit(x_train, y_train, batch_size=batch_size, epochs=10, verbose=2)"
   ]
  },
  {
   "cell_type": "markdown",
   "id": "de0493ca",
   "metadata": {},
   "source": [
    "### Training the model"
   ]
  },
  {
   "cell_type": "code",
   "execution_count": 9,
   "id": "20858779",
   "metadata": {},
   "outputs": [
    {
     "name": "stdout",
     "output_type": "stream",
     "text": [
      "Epoch 1/25\n",
      "300/300 [==============================] - 4s 12ms/step - loss: 0.2573 - accuracy: 0.9270 - val_loss: 0.2469 - val_accuracy: 0.9319\n",
      "Epoch 2/25\n",
      "300/300 [==============================] - 4s 12ms/step - loss: 0.2478 - accuracy: 0.9299 - val_loss: 0.2372 - val_accuracy: 0.9346\n",
      "Epoch 3/25\n",
      "300/300 [==============================] - 5s 16ms/step - loss: 0.2393 - accuracy: 0.9323 - val_loss: 0.2298 - val_accuracy: 0.9360\n",
      "Epoch 4/25\n",
      "300/300 [==============================] - 4s 13ms/step - loss: 0.2312 - accuracy: 0.9349 - val_loss: 0.2239 - val_accuracy: 0.9384\n",
      "Epoch 5/25\n",
      "300/300 [==============================] - 5s 15ms/step - loss: 0.2241 - accuracy: 0.9368 - val_loss: 0.2172 - val_accuracy: 0.9400\n",
      "Epoch 6/25\n",
      "300/300 [==============================] - 4s 14ms/step - loss: 0.2173 - accuracy: 0.9384 - val_loss: 0.2117 - val_accuracy: 0.9425\n",
      "Epoch 7/25\n",
      "300/300 [==============================] - 5s 15ms/step - loss: 0.2110 - accuracy: 0.9403 - val_loss: 0.2067 - val_accuracy: 0.9426\n",
      "Epoch 8/25\n",
      "300/300 [==============================] - 5s 16ms/step - loss: 0.2049 - accuracy: 0.9424 - val_loss: 0.2001 - val_accuracy: 0.9439\n",
      "Epoch 9/25\n",
      "300/300 [==============================] - 4s 13ms/step - loss: 0.1992 - accuracy: 0.9441 - val_loss: 0.1957 - val_accuracy: 0.9445\n",
      "Epoch 10/25\n",
      "300/300 [==============================] - 5s 15ms/step - loss: 0.1937 - accuracy: 0.9458 - val_loss: 0.1910 - val_accuracy: 0.9457\n",
      "Epoch 11/25\n",
      "300/300 [==============================] - 5s 17ms/step - loss: 0.1886 - accuracy: 0.9473 - val_loss: 0.1861 - val_accuracy: 0.9478\n",
      "Epoch 12/25\n",
      "300/300 [==============================] - 5s 16ms/step - loss: 0.1838 - accuracy: 0.9488 - val_loss: 0.1815 - val_accuracy: 0.9498\n",
      "Epoch 13/25\n",
      "300/300 [==============================] - 5s 16ms/step - loss: 0.1791 - accuracy: 0.9501 - val_loss: 0.1781 - val_accuracy: 0.9507\n",
      "Epoch 14/25\n",
      "300/300 [==============================] - 4s 14ms/step - loss: 0.1747 - accuracy: 0.9511 - val_loss: 0.1738 - val_accuracy: 0.9510\n",
      "Epoch 15/25\n",
      "300/300 [==============================] - 5s 15ms/step - loss: 0.1704 - accuracy: 0.9522 - val_loss: 0.1706 - val_accuracy: 0.9522\n",
      "Epoch 16/25\n",
      "300/300 [==============================] - 5s 16ms/step - loss: 0.1663 - accuracy: 0.9534 - val_loss: 0.1674 - val_accuracy: 0.9527\n",
      "Epoch 17/25\n",
      "300/300 [==============================] - 4s 14ms/step - loss: 0.1625 - accuracy: 0.9543 - val_loss: 0.1644 - val_accuracy: 0.9541\n",
      "Epoch 18/25\n",
      "300/300 [==============================] - 3s 11ms/step - loss: 0.1588 - accuracy: 0.9556 - val_loss: 0.1605 - val_accuracy: 0.9543\n",
      "Epoch 19/25\n",
      "300/300 [==============================] - 5s 18ms/step - loss: 0.1552 - accuracy: 0.9572 - val_loss: 0.1580 - val_accuracy: 0.9566\n",
      "Epoch 20/25\n",
      "300/300 [==============================] - 3s 10ms/step - loss: 0.1518 - accuracy: 0.9576 - val_loss: 0.1545 - val_accuracy: 0.9562\n",
      "Epoch 21/25\n",
      "300/300 [==============================] - 3s 11ms/step - loss: 0.1486 - accuracy: 0.9586 - val_loss: 0.1526 - val_accuracy: 0.9572\n",
      "Epoch 22/25\n",
      "300/300 [==============================] - 4s 14ms/step - loss: 0.1454 - accuracy: 0.9592 - val_loss: 0.1494 - val_accuracy: 0.9576\n",
      "Epoch 23/25\n",
      "300/300 [==============================] - 4s 14ms/step - loss: 0.1423 - accuracy: 0.9603 - val_loss: 0.1470 - val_accuracy: 0.9587\n",
      "Epoch 24/25\n",
      "300/300 [==============================] - 3s 11ms/step - loss: 0.1394 - accuracy: 0.9615 - val_loss: 0.1443 - val_accuracy: 0.9586\n",
      "Epoch 25/25\n",
      "300/300 [==============================] - 4s 15ms/step - loss: 0.1366 - accuracy: 0.9621 - val_loss: 0.1422 - val_accuracy: 0.9593\n"
     ]
    }
   ],
   "source": [
    "history = model.fit(x_train, y_train, batch_size=batch_size, epochs=epochs, validation_data=(x_test, y_test))"
   ]
  },
  {
   "cell_type": "markdown",
   "id": "e25a59ee",
   "metadata": {},
   "source": [
    "### Evaluating the model on test data"
   ]
  },
  {
   "cell_type": "code",
   "execution_count": 10,
   "id": "787138cb",
   "metadata": {},
   "outputs": [
    {
     "name": "stdout",
     "output_type": "stream",
     "text": [
      "Test loss: 0.14219318330287933\n",
      "Test accuracy: 0.9592999815940857\n"
     ]
    }
   ],
   "source": [
    "score = model.evaluate(x_test, y_test, verbose=0)\n",
    "print(\"Test loss:\", score[0])\n",
    "print(\"Test accuracy:\", score[1])"
   ]
  },
  {
   "cell_type": "markdown",
   "id": "1731062b",
   "metadata": {},
   "source": [
    "# <u>Error analysis</u> : \n",
    "The errors made by the model are analyzed to identify patterns and improve the performance of the model."
   ]
  },
  {
   "cell_type": "code",
   "execution_count": 11,
   "id": "6f799f77",
   "metadata": {},
   "outputs": [],
   "source": [
    "from sklearn.metrics import confusion_matrix"
   ]
  },
  {
   "cell_type": "markdown",
   "id": "de56f62a",
   "metadata": {},
   "source": [
    "### Generating predictions for the test set"
   ]
  },
  {
   "cell_type": "code",
   "execution_count": 12,
   "id": "11476e5b",
   "metadata": {},
   "outputs": [
    {
     "name": "stdout",
     "output_type": "stream",
     "text": [
      "313/313 [==============================] - 2s 5ms/step\n"
     ]
    }
   ],
   "source": [
    "y_pred = model.predict(x_test)"
   ]
  },
  {
   "cell_type": "markdown",
   "id": "1c29ea56",
   "metadata": {},
   "source": [
    "### Converting predictions from one-hot encoding to label"
   ]
  },
  {
   "cell_type": "code",
   "execution_count": 13,
   "id": "a91dd05a",
   "metadata": {},
   "outputs": [],
   "source": [
    "y_pred_labels = np.argmax(y_pred, axis=1)\n",
    "y_true_labels = np.argmax(y_test, axis=1)"
   ]
  },
  {
   "cell_type": "markdown",
   "id": "906a3af0",
   "metadata": {},
   "source": [
    "### Generating confusion matrix"
   ]
  },
  {
   "cell_type": "code",
   "execution_count": 14,
   "id": "9817cb40",
   "metadata": {},
   "outputs": [],
   "source": [
    "conf_mat = confusion_matrix(y_true_labels, y_pred_labels)"
   ]
  },
  {
   "cell_type": "markdown",
   "id": "e45554df",
   "metadata": {},
   "source": [
    "### Plotting confusion matrix"
   ]
  },
  {
   "cell_type": "code",
   "execution_count": 15,
   "id": "a2037ba6",
   "metadata": {},
   "outputs": [
    {
     "data": {
      "image/png": "[encoded data removed]",
      "text/plain": [
       "<Figure size 432x288 with 2 Axes>"
      ]
     },
     "metadata": {
      "needs_background": "light"
     },
     "output_type": "display_data"
    }
   ],
   "source": [
    "plt.imshow(conf_mat, cmap=plt.cm.Blues)\n",
    "plt.colorbar()\n",
    "plt.xticks(np.arange(10))\n",
    "plt.yticks(np.arange(10))\n",
    "plt.xlabel('Predicted Label')\n",
    "plt.ylabel('True Label')\n",
    "plt.show()"
   ]
  },
  {
   "cell_type": "markdown",
   "id": "b4de3b7d",
   "metadata": {},
   "source": [
    "The output graph generated by this code shows a heatmap of the confusion matrix, which is a table that summarizes the performance of a classification algorithm. The confusion matrix compares the predicted labels with the true labels of the test set and provides information on the number of correct and incorrect predictions for each class.\n",
    "\n",
    "The heatmap shows the values of the confusion matrix, where each row represents the true labels and each column represents the predicted labels. The color intensity of each cell represents the number of instances that were classified in that particular way. The lighter colors represent a smaller number of instances, while the darker colors represent a larger number of instances. The diagonal cells correspond to the correctly classified instances, while the off-diagonal cells correspond to the incorrectly classified instances."
   ]
  },
  {
   "cell_type": "markdown",
   "id": "b4cafa2c",
   "metadata": {},
   "source": [
    "### Finding misclassified examples"
   ]
  },
  {
   "cell_type": "code",
   "execution_count": 16,
   "id": "b08f62db",
   "metadata": {},
   "outputs": [
    {
     "data": {
      "image/png": "[encoded data removed]",
      "text/plain": [
       "<Figure size 720x720 with 25 Axes>"
      ]
     },
     "metadata": {
      "needs_background": "light"
     },
     "output_type": "display_data"
    }
   ],
   "source": [
    "misclassified_idx = np.where(y_pred_labels != y_true_labels)[0]\n",
    "\n",
    "# Plot some of the misclassified examples\n",
    "fig, axs = plt.subplots(5, 5, figsize=(10,10))\n",
    "axs = axs.ravel()\n",
    "\n",
    "for i, idx in enumerate(misclassified_idx[:25]):\n",
    "    axs[i].imshow(x_test[idx].reshape(28, 28), cmap='gray')\n",
    "    axs[i].axis('off')\n",
    "    axs[i].set_title('True: {} / Pred: {}'.format(y_true_labels[idx], y_pred_labels[idx]))\n",
    "\n",
    "plt.show()\n"
   ]
  },
  {
   "cell_type": "markdown",
   "id": "14202892",
   "metadata": {},
   "source": [
    "These images are misclassified examples from the test set, which means the model predicted the wrong label for them. The code first identifies the indices of the misclassified examples using numpy's where function. \n",
    "\n",
    "<b>Observations</b>:\n",
    "\n",
    "The model is not perfect and makes mistakes, as evidenced by the misclassified examples.\n",
    "The misclassified examples have a variety of true and predicted labels, indicating that the model is making mistakes across different digits and not just one particular digit.\n",
    "Some of the misclassified examples are visually difficult to classify even for humans, such as those with unusual handwriting or overlapping digits."
   ]
  },
  {
   "cell_type": "markdown",
   "id": "8a5b447f",
   "metadata": {},
   "source": [
    "# Regularization in Neural Networks:\n",
    "L2 regularization is applied to the model to prevent overfitting."
   ]
  },
  {
   "cell_type": "markdown",
   "id": "6fff5a15",
   "metadata": {},
   "source": [
    "### Build the models without and with L2 regularization"
   ]
  },
  {
   "cell_type": "code",
   "execution_count": 17,
   "id": "f7672211",
   "metadata": {},
   "outputs": [],
   "source": [
    "from keras import regularizers"
   ]
  },
  {
   "cell_type": "markdown",
   "id": "662a21be",
   "metadata": {},
   "source": [
    "### building model without L2 regularization"
   ]
  },
  {
   "cell_type": "code",
   "execution_count": 18,
   "id": "fe8798a2",
   "metadata": {},
   "outputs": [],
   "source": [
    "model = Sequential()     \n",
    "model.add(Dense(hidden1, input_dim=input_size, activation='relu'))\n",
    "model.add(Dense(hidden2, activation='relu'))\n",
    "model.add(Dense(classes, activation='softmax'))"
   ]
  },
  {
   "cell_type": "markdown",
   "id": "4cbe3fce",
   "metadata": {},
   "source": [
    "### Compiling the model"
   ]
  },
  {
   "cell_type": "code",
   "execution_count": 19,
   "id": "f03d0c5d",
   "metadata": {},
   "outputs": [],
   "source": [
    "model.compile(loss='categorical_crossentropy', metrics=['accuracy'], optimizer='sgd')"
   ]
  },
  {
   "cell_type": "markdown",
   "id": "9e737d78",
   "metadata": {},
   "source": [
    "### model summary"
   ]
  },
  {
   "cell_type": "code",
   "execution_count": 20,
   "id": "75502f1f",
   "metadata": {},
   "outputs": [
    {
     "name": "stdout",
     "output_type": "stream",
     "text": [
      "Model: \"sequential_1\"\n",
      "_________________________________________________________________\n",
      " Layer (type)                Output Shape              Param #   \n",
      "=================================================================\n",
      " dense_3 (Dense)             (None, 400)               314000    \n",
      "                                                                 \n",
      " dense_4 (Dense)             (None, 20)                8020      \n",
      "                                                                 \n",
      " dense_5 (Dense)             (None, 10)                210       \n",
      "                                                                 \n",
      "=================================================================\n",
      "Total params: 322,230\n",
      "Trainable params: 322,230\n",
      "Non-trainable params: 0\n",
      "_________________________________________________________________\n"
     ]
    }
   ],
   "source": [
    "model.summary()"
   ]
  },
  {
   "cell_type": "markdown",
   "id": "1da6c25b",
   "metadata": {},
   "source": [
    "### Training the model"
   ]
  },
  {
   "cell_type": "code",
   "execution_count": 21,
   "id": "24056b02",
   "metadata": {},
   "outputs": [
    {
     "name": "stdout",
     "output_type": "stream",
     "text": [
      "Epoch 1/25\n",
      "300/300 [==============================] - 6s 14ms/step - loss: 1.5469 - accuracy: 0.5779 - val_loss: 0.9209 - val_accuracy: 0.7919\n",
      "Epoch 2/25\n",
      "300/300 [==============================] - 4s 14ms/step - loss: 0.7016 - accuracy: 0.8356 - val_loss: 0.5340 - val_accuracy: 0.8679\n",
      "Epoch 3/25\n",
      "300/300 [==============================] - 4s 14ms/step - loss: 0.4881 - accuracy: 0.8751 - val_loss: 0.4203 - val_accuracy: 0.8904\n",
      "Epoch 4/25\n",
      "300/300 [==============================] - 5s 15ms/step - loss: 0.4092 - accuracy: 0.8906 - val_loss: 0.3686 - val_accuracy: 0.8999\n",
      "Epoch 5/25\n",
      "300/300 [==============================] - 4s 13ms/step - loss: 0.3674 - accuracy: 0.8993 - val_loss: 0.3392 - val_accuracy: 0.9064\n",
      "Epoch 6/25\n",
      "300/300 [==============================] - 4s 13ms/step - loss: 0.3401 - accuracy: 0.9059 - val_loss: 0.3154 - val_accuracy: 0.9116\n",
      "Epoch 7/25\n",
      "300/300 [==============================] - 4s 14ms/step - loss: 0.3200 - accuracy: 0.9106 - val_loss: 0.2997 - val_accuracy: 0.9133\n",
      "Epoch 8/25\n",
      "300/300 [==============================] - 4s 13ms/step - loss: 0.3040 - accuracy: 0.9153 - val_loss: 0.2859 - val_accuracy: 0.9170\n",
      "Epoch 9/25\n",
      "300/300 [==============================] - 4s 14ms/step - loss: 0.2904 - accuracy: 0.9186 - val_loss: 0.2760 - val_accuracy: 0.9212\n",
      "Epoch 10/25\n",
      "300/300 [==============================] - 4s 13ms/step - loss: 0.2789 - accuracy: 0.9223 - val_loss: 0.2653 - val_accuracy: 0.9238\n",
      "Epoch 11/25\n",
      "300/300 [==============================] - 4s 12ms/step - loss: 0.2684 - accuracy: 0.9248 - val_loss: 0.2564 - val_accuracy: 0.9271\n",
      "Epoch 12/25\n",
      "300/300 [==============================] - 4s 13ms/step - loss: 0.2592 - accuracy: 0.9277 - val_loss: 0.2487 - val_accuracy: 0.9294\n",
      "Epoch 13/25\n",
      "300/300 [==============================] - 4s 13ms/step - loss: 0.2503 - accuracy: 0.9299 - val_loss: 0.2394 - val_accuracy: 0.9334\n",
      "Epoch 14/25\n",
      "300/300 [==============================] - 4s 12ms/step - loss: 0.2420 - accuracy: 0.9327 - val_loss: 0.2323 - val_accuracy: 0.9343\n",
      "Epoch 15/25\n",
      "300/300 [==============================] - 4s 14ms/step - loss: 0.2347 - accuracy: 0.9348 - val_loss: 0.2264 - val_accuracy: 0.9357\n",
      "Epoch 16/25\n",
      "300/300 [==============================] - 4s 12ms/step - loss: 0.2275 - accuracy: 0.9370 - val_loss: 0.2202 - val_accuracy: 0.9395\n",
      "Epoch 17/25\n",
      "300/300 [==============================] - 4s 14ms/step - loss: 0.2210 - accuracy: 0.9385 - val_loss: 0.2143 - val_accuracy: 0.9409\n",
      "Epoch 18/25\n",
      "300/300 [==============================] - 4s 13ms/step - loss: 0.2147 - accuracy: 0.9403 - val_loss: 0.2086 - val_accuracy: 0.9420\n",
      "Epoch 19/25\n",
      "300/300 [==============================] - 3s 11ms/step - loss: 0.2086 - accuracy: 0.9421 - val_loss: 0.2025 - val_accuracy: 0.9439\n",
      "Epoch 20/25\n",
      "300/300 [==============================] - 4s 13ms/step - loss: 0.2031 - accuracy: 0.9437 - val_loss: 0.1982 - val_accuracy: 0.9448\n",
      "Epoch 21/25\n",
      "300/300 [==============================] - 4s 12ms/step - loss: 0.1975 - accuracy: 0.9455 - val_loss: 0.1932 - val_accuracy: 0.9472\n",
      "Epoch 22/25\n",
      "300/300 [==============================] - 4s 15ms/step - loss: 0.1925 - accuracy: 0.9463 - val_loss: 0.1888 - val_accuracy: 0.9477\n",
      "Epoch 23/25\n",
      "300/300 [==============================] - 4s 13ms/step - loss: 0.1877 - accuracy: 0.9477 - val_loss: 0.1849 - val_accuracy: 0.9489\n",
      "Epoch 24/25\n",
      "300/300 [==============================] - 3s 11ms/step - loss: 0.1828 - accuracy: 0.9491 - val_loss: 0.1812 - val_accuracy: 0.9495\n",
      "Epoch 25/25\n",
      "300/300 [==============================] - 4s 14ms/step - loss: 0.1783 - accuracy: 0.9503 - val_loss: 0.1777 - val_accuracy: 0.9514\n",
      "Model without regularization training completed.\n"
     ]
    }
   ],
   "source": [
    "history_without_reg = model.fit(x_train, y_train, batch_size=batch_size, epochs=epochs, validation_data=(x_test, y_test))\n",
    "print(\"Model without regularization training completed.\")"
   ]
  },
  {
   "cell_type": "markdown",
   "id": "d0bf19a7",
   "metadata": {},
   "source": [
    "### Evaluating the model"
   ]
  },
  {
   "cell_type": "code",
   "execution_count": 22,
   "id": "f6a5a149",
   "metadata": {},
   "outputs": [
    {
     "name": "stdout",
     "output_type": "stream",
     "text": [
      "313/313 [==============================] - 2s 4ms/step - loss: 0.1777 - accuracy: 0.9514\n",
      "Model without regularization - Test loss: 0.1777, Test accuracy: 95.14%\n"
     ]
    }
   ],
   "source": [
    "test_loss, test_acc = model.evaluate(x_test, y_test)\n",
    "print(\"Model without regularization - Test loss: {:.4f}, Test accuracy: {:.2f}%\".format(test_loss, test_acc*100))"
   ]
  },
  {
   "cell_type": "markdown",
   "id": "ba7f3c1e",
   "metadata": {},
   "source": [
    "## Model with regularization:"
   ]
  },
  {
   "cell_type": "markdown",
   "id": "5f88e5e9",
   "metadata": {},
   "source": [
    "### building model with L2 regularization:"
   ]
  },
  {
   "cell_type": "code",
   "execution_count": 23,
   "id": "d5de717b",
   "metadata": {},
   "outputs": [],
   "source": [
    "model_with_reg = Sequential()\n",
    "model_with_reg.add(Dense(hidden1, input_dim=input_size, activation='relu', kernel_regularizer=regularizers.l2(0.01)))\n",
    "model_with_reg.add(Dense(hidden2, activation='relu', kernel_regularizer=regularizers.l2(0.01)))\n",
    "model_with_reg.add(Dense(classes, activation='softmax'))"
   ]
  },
  {
   "cell_type": "markdown",
   "id": "0444e701",
   "metadata": {},
   "source": [
    "### compiling the model"
   ]
  },
  {
   "cell_type": "code",
   "execution_count": 24,
   "id": "b074f30d",
   "metadata": {},
   "outputs": [],
   "source": [
    "model_with_reg.compile(loss='categorical_crossentropy', metrics=['accuracy'], optimizer='sgd')"
   ]
  },
  {
   "cell_type": "markdown",
   "id": "43c0c881",
   "metadata": {},
   "source": [
    "### Model Summary"
   ]
  },
  {
   "cell_type": "code",
   "execution_count": 25,
   "id": "c6772608",
   "metadata": {},
   "outputs": [
    {
     "name": "stdout",
     "output_type": "stream",
     "text": [
      "Model: \"sequential_2\"\n",
      "_________________________________________________________________\n",
      " Layer (type)                Output Shape              Param #   \n",
      "=================================================================\n",
      " dense_6 (Dense)             (None, 400)               314000    \n",
      "                                                                 \n",
      " dense_7 (Dense)             (None, 20)                8020      \n",
      "                                                                 \n",
      " dense_8 (Dense)             (None, 10)                210       \n",
      "                                                                 \n",
      "=================================================================\n",
      "Total params: 322,230\n",
      "Trainable params: 322,230\n",
      "Non-trainable params: 0\n",
      "_________________________________________________________________\n"
     ]
    }
   ],
   "source": [
    "model_with_reg.summary()"
   ]
  },
  {
   "cell_type": "markdown",
   "id": "4dd7dc07",
   "metadata": {},
   "source": [
    "### Training Model:"
   ]
  },
  {
   "cell_type": "code",
   "execution_count": 26,
   "id": "c3d7267d",
   "metadata": {},
   "outputs": [
    {
     "name": "stdout",
     "output_type": "stream",
     "text": [
      "Epoch 1/25\n",
      "300/300 [==============================] - 6s 14ms/step - loss: 6.8927 - accuracy: 0.5978 - val_loss: 5.9987 - val_accuracy: 0.7935\n",
      "Epoch 2/25\n",
      "300/300 [==============================] - 4s 13ms/step - loss: 5.5514 - accuracy: 0.8259 - val_loss: 5.1459 - val_accuracy: 0.8587\n",
      "Epoch 3/25\n",
      "300/300 [==============================] - 4s 15ms/step - loss: 4.8629 - accuracy: 0.8625 - val_loss: 4.5603 - val_accuracy: 0.8813\n",
      "Epoch 4/25\n",
      "300/300 [==============================] - 4s 12ms/step - loss: 4.3314 - accuracy: 0.8815 - val_loss: 4.0755 - val_accuracy: 0.8920\n",
      "Epoch 5/25\n",
      "300/300 [==============================] - 4s 12ms/step - loss: 3.8804 - accuracy: 0.8923 - val_loss: 3.6585 - val_accuracy: 0.9008\n",
      "Epoch 6/25\n",
      "300/300 [==============================] - 4s 13ms/step - loss: 3.4890 - accuracy: 0.8992 - val_loss: 3.2932 - val_accuracy: 0.9063\n",
      "Epoch 7/25\n",
      "300/300 [==============================] - 4s 13ms/step - loss: 3.1463 - accuracy: 0.9041 - val_loss: 2.9745 - val_accuracy: 0.9105\n",
      "Epoch 8/25\n",
      "300/300 [==============================] - 4s 12ms/step - loss: 2.8443 - accuracy: 0.9075 - val_loss: 2.6901 - val_accuracy: 0.9129\n",
      "Epoch 9/25\n",
      "300/300 [==============================] - 4s 12ms/step - loss: 2.5773 - accuracy: 0.9099 - val_loss: 2.4412 - val_accuracy: 0.9150\n",
      "Epoch 10/25\n",
      "300/300 [==============================] - 4s 13ms/step - loss: 2.3409 - accuracy: 0.9118 - val_loss: 2.2197 - val_accuracy: 0.9162\n",
      "Epoch 11/25\n",
      "300/300 [==============================] - 4s 14ms/step - loss: 2.1315 - accuracy: 0.9142 - val_loss: 2.0232 - val_accuracy: 0.9176\n",
      "Epoch 12/25\n",
      "300/300 [==============================] - 4s 14ms/step - loss: 1.9459 - accuracy: 0.9160 - val_loss: 1.8485 - val_accuracy: 0.9204\n",
      "Epoch 13/25\n",
      "300/300 [==============================] - 3s 11ms/step - loss: 1.7813 - accuracy: 0.9175 - val_loss: 1.6928 - val_accuracy: 0.9211\n",
      "Epoch 14/25\n",
      "300/300 [==============================] - 4s 12ms/step - loss: 1.6349 - accuracy: 0.9184 - val_loss: 1.5581 - val_accuracy: 0.9228\n",
      "Epoch 15/25\n",
      "300/300 [==============================] - 4s 12ms/step - loss: 1.5052 - accuracy: 0.9201 - val_loss: 1.4344 - val_accuracy: 0.9245\n",
      "Epoch 16/25\n",
      "300/300 [==============================] - 4s 13ms/step - loss: 1.3896 - accuracy: 0.9211 - val_loss: 1.3261 - val_accuracy: 0.9239\n",
      "Epoch 17/25\n",
      "300/300 [==============================] - 4s 14ms/step - loss: 1.2869 - accuracy: 0.9218 - val_loss: 1.2310 - val_accuracy: 0.9240\n",
      "Epoch 18/25\n",
      "300/300 [==============================] - 4s 12ms/step - loss: 1.1957 - accuracy: 0.9231 - val_loss: 1.1435 - val_accuracy: 0.9268\n",
      "Epoch 19/25\n",
      "300/300 [==============================] - 4s 14ms/step - loss: 1.1144 - accuracy: 0.9239 - val_loss: 1.0671 - val_accuracy: 0.9268\n",
      "Epoch 20/25\n",
      "300/300 [==============================] - 4s 13ms/step - loss: 1.0419 - accuracy: 0.9246 - val_loss: 0.9998 - val_accuracy: 0.9277\n",
      "Epoch 21/25\n",
      "300/300 [==============================] - 4s 13ms/step - loss: 0.9774 - accuracy: 0.9258 - val_loss: 0.9389 - val_accuracy: 0.9286\n",
      "Epoch 22/25\n",
      "300/300 [==============================] - 5s 15ms/step - loss: 0.9197 - accuracy: 0.9267 - val_loss: 0.8850 - val_accuracy: 0.9297\n",
      "Epoch 23/25\n",
      "300/300 [==============================] - 4s 12ms/step - loss: 0.8683 - accuracy: 0.9276 - val_loss: 0.8361 - val_accuracy: 0.9294\n",
      "Epoch 24/25\n",
      "300/300 [==============================] - 4s 13ms/step - loss: 0.8223 - accuracy: 0.9291 - val_loss: 0.7928 - val_accuracy: 0.9290\n",
      "Epoch 25/25\n",
      "300/300 [==============================] - 4s 13ms/step - loss: 0.7814 - accuracy: 0.9297 - val_loss: 0.7543 - val_accuracy: 0.9301\n",
      "Model with regularization training completed.\n"
     ]
    }
   ],
   "source": [
    "history_with_reg = model_with_reg.fit(x_train, y_train, batch_size=batch_size, epochs=epochs, validation_data=(x_test, y_test))\n",
    "print(\"Model with regularization training completed.\")"
   ]
  },
  {
   "cell_type": "markdown",
   "id": "bf5f56c1",
   "metadata": {},
   "source": [
    "### Evaluate the model"
   ]
  },
  {
   "cell_type": "code",
   "execution_count": 27,
   "id": "6b8ed9c8",
   "metadata": {},
   "outputs": [
    {
     "name": "stdout",
     "output_type": "stream",
     "text": [
      "313/313 [==============================] - 2s 4ms/step - loss: 0.7543 - accuracy: 0.9301\n",
      "Model with regularization - Test loss: 0.7543, Test accuracy: 93.01%\n"
     ]
    }
   ],
   "source": [
    "test_loss_reg, test_acc_reg = model_with_reg.evaluate(x_test, y_test)\n",
    "print(\"Model with regularization - Test loss: {:.4f}, Test accuracy: {:.2f}%\".format(test_loss_reg, test_acc_reg*100))"
   ]
  },
  {
   "cell_type": "markdown",
   "id": "376858cf",
   "metadata": {},
   "source": [
    "### Plot the training and validation accuracy and loss for the models with and without regularization"
   ]
  },
  {
   "cell_type": "code",
   "execution_count": 28,
   "id": "89b68f6f",
   "metadata": {},
   "outputs": [
    {
     "data": {
      "text/plain": [
       "Text(0.5, 1.0, 'Training and Validation Accuracy')"
      ]
     },
     "execution_count": 28,
     "metadata": {},
     "output_type": "execute_result"
    },
    {
     "data": {
      "image/png": "[encoded data removed]",
      "text/plain": [
       "<Figure size 1080x360 with 1 Axes>"
      ]
     },
     "metadata": {
      "needs_background": "light"
     },
     "output_type": "display_data"
    }
   ],
   "source": [
    "plt.figure(figsize=(15, 5))\n",
    "plt.subplot(1, 2, 1)\n",
    "plt.plot(history_without_reg.history['accuracy'], label='Training Accuracy (no reg)', color='blue')\n",
    "plt.plot(history_with_reg.history['accuracy'], label='Training Accuracy (with reg)', color='red')\n",
    "plt.plot(history_without_reg.history['val_accuracy'], label='Validation Accuracy (no reg)', linestyle='--', color='blue')\n",
    "plt.plot(history_with_reg.history['val_accuracy'], label='Validation Accuracy (with reg)', linestyle='--', color='red')\n",
    "plt.legend()\n",
    "plt.title('Training and Validation Accuracy')"
   ]
  },
  {
   "cell_type": "markdown",
   "id": "c1d82700",
   "metadata": {},
   "source": [
    "The output graph shows the comparison of training and validation accuracy between two models - one without regularization and the other with regularization.\n",
    "\n",
    "The x-axis represents the number of epochs, and the y-axis represents the accuracy value. The solid lines represent the training accuracy of the models, while the dashed lines represent the validation accuracy.\n",
    "\n",
    "The blue lines represent the model without regularization, while the red lines represent the model with regularization.\n",
    "\n",
    "<b>Observations</b>:\n",
    "\n",
    "The training accuracy of both models increases as the number of epochs increases.\n",
    "The validation accuracy of both models also increases, but the model with regularization has a slightly better validation accuracy than the model without regularization.\n",
    "The training accuracy of the model without regularization is slightly better than the model with regularization.\n",
    "The validation accuracy of the model without regularization starts to decrease after 10 epochs, which could indicate overfitting, while the model with regularization maintains a steady validation accuracy.\n",
    "Overall, the model with regularization performs better than the model without regularization in terms of generalization, as it has a better validation accuracy and avoids overfitting."
   ]
  },
  {
   "cell_type": "code",
   "execution_count": 29,
   "id": "e3a2d1be",
   "metadata": {},
   "outputs": [
    {
     "data": {
      "image/png": "[encoded data removed]",
      "text/plain": [
       "<Figure size 432x288 with 1 Axes>"
      ]
     },
     "metadata": {
      "needs_background": "light"
     },
     "output_type": "display_data"
    }
   ],
   "source": [
    "plt.subplot(1, 2, 2)\n",
    "plt.plot(history_without_reg.history['loss'], label='Training Loss (no reg)', color='blue')\n",
    "plt.plot(history_with_reg.history['loss'], label='Training Loss (with reg)', color='red')\n",
    "plt.plot(history_without_reg.history['val_loss'], label='Validation Loss (no reg)', linestyle='--', color='blue')\n",
    "plt.plot(history_with_reg.history['val_loss'], label='Validation Loss (with reg)', linestyle='--', color='red')\n",
    "plt.legend()\n",
    "plt.title('Training and Validation Loss')\n",
    "plt.show()\n"
   ]
  },
  {
   "cell_type": "markdown",
   "id": "85fc5f7a",
   "metadata": {},
   "source": [
    "The output graph is a plot of training and validation loss over epochs for two models: one without regularization and one with regularization.\n",
    "\n",
    "The x-axis represents the number of epochs, while the y-axis represents the loss value. The blue lines represent the model without regularization, while the red lines represent the model with regularization.\n",
    "\n",
    "<b> Observations </b> :\n",
    "\n",
    "Both models start with a high training and validation loss but gradually decrease over the epochs.\n",
    "The training loss of the model without regularization decreases more quickly than the model with regularization, indicating that the former model is learning faster.\n",
    "However, the validation loss of the model without regularization starts increasing after a certain number of epochs, indicating overfitting, while the model with regularization has a consistently decreasing validation loss.\n",
    "This suggests that the model with regularization is better at generalizing to new data and is less likely to overfit.\n",
    "Overall, regularization helps to reduce overfitting and improve model generalization."
   ]
  },
  {
   "cell_type": "markdown",
   "id": "da58f2d6",
   "metadata": {},
   "source": [
    "# Mixture Density Networks: \n",
    "The FCN model is extended to a mixture density network (MDN) to generate probability distributions over the possible outputs rather than single values."
   ]
  },
  {
   "cell_type": "markdown",
   "id": "a1a7fb70",
   "metadata": {},
   "source": [
    "### Defining the MDN model"
   ]
  },
  {
   "cell_type": "code",
   "execution_count": 30,
   "id": "9789c6b0",
   "metadata": {},
   "outputs": [],
   "source": [
    "from tensorflow.keras.layers import Input, Dense, concatenate\n",
    "\n",
    "# Number of mixture components\n",
    "num_components = 5\n",
    "\n",
    "input_layer = layers.Input(shape=(784,))\n",
    "hidden_layer1 = layers.Dense(400, activation='relu')(input_layer)\n",
    "hidden_layer2 = layers.Dense(20, activation='relu')(hidden_layer1)\n",
    "mdn_layer = layers.Dense(num_components * 3, activation=None)(hidden_layer2)\n",
    "mean, std, logits = tf.split(mdn_layer, num_or_size_splits=3, axis=1)\n",
    "coeffs = tf.nn.softmax(logits)\n",
    "output_layer = layers.Concatenate(axis=1)([mean, std, coeffs])\n",
    "model_mdn = keras.Model(inputs=input_layer, outputs=output_layer)"
   ]
  },
  {
   "cell_type": "code",
   "execution_count": 31,
   "id": "31d2aebe",
   "metadata": {},
   "outputs": [],
   "source": [
    "# Define the MDN model\n",
    "model_mdn = Sequential()\n",
    "model_mdn.add(Dense(hidden1, input_dim=input_size, activation='relu'))\n",
    "model_mdn.add(Dense(hidden2, activation='relu'))\n",
    "model_mdn.add(Dense(num_components * 3, activation=None))"
   ]
  },
  {
   "cell_type": "markdown",
   "id": "32137d69",
   "metadata": {},
   "source": [
    "### Defining a custom layer for splitting the output of the MDN layer"
   ]
  },
  {
   "cell_type": "code",
   "execution_count": 32,
   "id": "4970ad6f",
   "metadata": {},
   "outputs": [],
   "source": [
    "class MDNSplitter(layers.Layer):\n",
    "    def __init__(self, num_components):\n",
    "        super(MDNSplitter, self).__init__()\n",
    "        self.num_components = num_components\n",
    "\n",
    "    def call(self, inputs):\n",
    "        mean, std, logits = tf.split(inputs, num_or_size_splits=3, axis=1)\n",
    "        return tf.concat([mean, std, tf.nn.softmax(logits)], axis=1)"
   ]
  },
  {
   "cell_type": "markdown",
   "id": "8318f5c3",
   "metadata": {},
   "source": [
    "### Defining the output layer with the MDNSplitter layer"
   ]
  },
  {
   "cell_type": "code",
   "execution_count": 33,
   "id": "3b31f389",
   "metadata": {},
   "outputs": [],
   "source": [
    "model_mdn.add(Dense(num_components * 3, activation=None))\n",
    "model_mdn.add(MDNSplitter(num_components))"
   ]
  },
  {
   "cell_type": "markdown",
   "id": "e5d7bbcc",
   "metadata": {},
   "source": [
    "### Defining the negative log likelihood loss function"
   ]
  },
  {
   "cell_type": "code",
   "execution_count": 34,
   "id": "694495fd",
   "metadata": {},
   "outputs": [],
   "source": [
    "def mdn_loss(y_true, y_pred):\n",
    "    means, stds, coeffs = y_pred\n",
    "    dist = tfp.distributions.MixtureSameFamily(\n",
    "        mixture_distribution=tfp.distributions.Categorical(probs=coeffs),\n",
    "        components_distribution=tfp.distributions.Normal(loc=means, scale=stds))\n",
    "    return -tf.reduce_mean(dist.log_prob(y_true))"
   ]
  },
  {
   "cell_type": "markdown",
   "id": "23837760",
   "metadata": {},
   "source": [
    "tfp defines gaussian mixture distributions with predicted parameters "
   ]
  },
  {
   "cell_type": "markdown",
   "id": "b5fe32ee",
   "metadata": {},
   "source": [
    "### Compiling the model with the mdn_loss function"
   ]
  },
  {
   "cell_type": "code",
   "execution_count": 35,
   "id": "be68d18e",
   "metadata": {},
   "outputs": [
    {
     "name": "stdout",
     "output_type": "stream",
     "text": [
      "Model: \"sequential_3\"\n",
      "_________________________________________________________________\n",
      " Layer (type)                Output Shape              Param #   \n",
      "=================================================================\n",
      " dense_12 (Dense)            (None, 400)               314000    \n",
      "                                                                 \n",
      " dense_13 (Dense)            (None, 20)                8020      \n",
      "                                                                 \n",
      " dense_14 (Dense)            (None, 15)                315       \n",
      "                                                                 \n",
      " dense_15 (Dense)            (None, 15)                240       \n",
      "                                                                 \n",
      " mdn_splitter (MDNSplitter)  (None, 15)                0         \n",
      "                                                                 \n",
      "=================================================================\n",
      "Total params: 322,575\n",
      "Trainable params: 322,575\n",
      "Non-trainable params: 0\n",
      "_________________________________________________________________\n"
     ]
    }
   ],
   "source": [
    "model_mdn.compile(loss=mdn_loss, optimizer='sgd')\n",
    "model_mdn.summary() "
   ]
  },
  {
   "cell_type": "markdown",
   "id": "62bdc7fc",
   "metadata": {},
   "source": [
    "### Training MDN model"
   ]
  },
  {
   "cell_type": "code",
   "execution_count": 36,
   "id": "5be23420",
   "metadata": {},
   "outputs": [
    {
     "name": "stdout",
     "output_type": "stream",
     "text": [
      "Epoch 1/10\n",
      "469/469 [==============================] - 6s 12ms/step - loss: 0.1736 - accuracy: 0.9515 - val_loss: 0.1718 - val_accuracy: 0.9520\n",
      "Epoch 2/10\n",
      "469/469 [==============================] - 6s 13ms/step - loss: 0.1675 - accuracy: 0.9534 - val_loss: 0.1652 - val_accuracy: 0.9524\n",
      "Epoch 3/10\n",
      "469/469 [==============================] - 6s 13ms/step - loss: 0.1610 - accuracy: 0.9551 - val_loss: 0.1612 - val_accuracy: 0.9537\n",
      "Epoch 4/10\n",
      "469/469 [==============================] - 6s 13ms/step - loss: 0.1558 - accuracy: 0.9565 - val_loss: 0.1566 - val_accuracy: 0.9540\n",
      "Epoch 5/10\n",
      "469/469 [==============================] - 7s 14ms/step - loss: 0.1504 - accuracy: 0.9580 - val_loss: 0.1523 - val_accuracy: 0.9550\n",
      "Epoch 6/10\n",
      "469/469 [==============================] - 6s 14ms/step - loss: 0.1455 - accuracy: 0.9596 - val_loss: 0.1472 - val_accuracy: 0.9578\n",
      "Epoch 7/10\n",
      "469/469 [==============================] - 6s 12ms/step - loss: 0.1405 - accuracy: 0.9611 - val_loss: 0.1460 - val_accuracy: 0.9593\n",
      "Epoch 8/10\n",
      "469/469 [==============================] - 6s 14ms/step - loss: 0.1361 - accuracy: 0.9621 - val_loss: 0.1399 - val_accuracy: 0.9602\n",
      "Epoch 9/10\n",
      "469/469 [==============================] - 5s 11ms/step - loss: 0.1318 - accuracy: 0.9633 - val_loss: 0.1372 - val_accuracy: 0.9617\n",
      "Epoch 10/10\n",
      "469/469 [==============================] - 6s 12ms/step - loss: 0.1278 - accuracy: 0.9646 - val_loss: 0.1344 - val_accuracy: 0.9617\n",
      "MDN training completed.\n"
     ]
    }
   ],
   "source": [
    "MDN_TRAIN = model.fit(x_train.reshape(-1, 784), y_train, epochs=10, batch_size=128, validation_data=(x_test, y_test))\n",
    "print(\"MDN training completed.\")"
   ]
  },
  {
   "cell_type": "markdown",
   "id": "2422d0e3",
   "metadata": {},
   "source": [
    "### Evaluating model on test data"
   ]
  },
  {
   "cell_type": "code",
   "execution_count": 37,
   "id": "82dec455",
   "metadata": {},
   "outputs": [],
   "source": [
    "#score1 = model.evaluate(x_test.reshape(-1, 784), y_test)"
   ]
  },
  {
   "cell_type": "code",
   "execution_count": 38,
   "id": "8b5397b0",
   "metadata": {},
   "outputs": [
    {
     "name": "stdout",
     "output_type": "stream",
     "text": [
      "313/313 [==============================] - 1s 5ms/step - loss: 0.1344 - accuracy: 0.9617\n",
      "Model with MDN - Test loss: 0.1344, Test accuracy: 96.17%\n"
     ]
    }
   ],
   "source": [
    "score2 = model.evaluate(x_test.reshape(-1, 784), y_test)\n",
    "print(\"Model with MDN - Test loss: {:.4f}, Test accuracy: {:.2f}%\".format(score2[0], score2[1]*100))\n"
   ]
  },
  {
   "cell_type": "markdown",
   "id": "30de995f",
   "metadata": {},
   "source": [
    "### MDN model's test accuracy"
   ]
  },
  {
   "cell_type": "code",
   "execution_count": 39,
   "id": "59313483",
   "metadata": {},
   "outputs": [
    {
     "name": "stdout",
     "output_type": "stream",
     "text": [
      "Epoch 1/50\n",
      "469/469 [==============================] - 6s 12ms/step - loss: 0.1239 - accuracy: 0.9657 - val_loss: 0.1315 - val_accuracy: 0.9626\n",
      "Epoch 2/50\n",
      "469/469 [==============================] - 6s 12ms/step - loss: 0.1203 - accuracy: 0.9667 - val_loss: 0.1275 - val_accuracy: 0.9647\n",
      "Epoch 3/50\n",
      "469/469 [==============================] - 5s 11ms/step - loss: 0.1167 - accuracy: 0.9677 - val_loss: 0.1259 - val_accuracy: 0.9645\n",
      "Epoch 4/50\n",
      "469/469 [==============================] - 6s 12ms/step - loss: 0.1133 - accuracy: 0.9684 - val_loss: 0.1228 - val_accuracy: 0.9657\n",
      "Epoch 5/50\n",
      "469/469 [==============================] - 6s 12ms/step - loss: 0.1101 - accuracy: 0.9699 - val_loss: 0.1207 - val_accuracy: 0.9656\n",
      "Epoch 6/50\n",
      "469/469 [==============================] - 6s 12ms/step - loss: 0.1072 - accuracy: 0.9698 - val_loss: 0.1198 - val_accuracy: 0.9651\n",
      "Epoch 7/50\n",
      "469/469 [==============================] - 6s 12ms/step - loss: 0.1043 - accuracy: 0.9712 - val_loss: 0.1156 - val_accuracy: 0.9661\n",
      "Epoch 8/50\n",
      "469/469 [==============================] - 6s 13ms/step - loss: 0.1016 - accuracy: 0.9721 - val_loss: 0.1144 - val_accuracy: 0.9663\n",
      "Epoch 9/50\n",
      "469/469 [==============================] - 5s 10ms/step - loss: 0.0989 - accuracy: 0.9726 - val_loss: 0.1128 - val_accuracy: 0.9654\n",
      "Epoch 10/50\n",
      "469/469 [==============================] - 6s 12ms/step - loss: 0.0963 - accuracy: 0.9736 - val_loss: 0.1105 - val_accuracy: 0.9671\n",
      "Epoch 11/50\n",
      "469/469 [==============================] - 3s 6ms/step - loss: 0.0809 - accuracy: 0.9778 - val_loss: 0.1004 - val_accuracy: 0.9681\n",
      "Epoch 18/50\n",
      "469/469 [==============================] - 2s 5ms/step - loss: 0.0790 - accuracy: 0.9788 - val_loss: 0.0984 - val_accuracy: 0.9692\n",
      "Epoch 19/50\n",
      "469/469 [==============================] - 2s 5ms/step - loss: 0.0772 - accuracy: 0.9787 - val_loss: 0.0975 - val_accuracy: 0.9692\n",
      "Epoch 20/50\n",
      "469/469 [==============================] - 2s 5ms/step - loss: 0.0753 - accuracy: 0.9797 - val_loss: 0.0968 - val_accuracy: 0.9704\n",
      "Epoch 21/50\n",
      "469/469 [==============================] - 2s 5ms/step - loss: 0.0737 - accuracy: 0.9803 - val_loss: 0.0955 - val_accuracy: 0.9702\n",
      "Epoch 22/50\n",
      "469/469 [==============================] - 2s 5ms/step - loss: 0.0720 - accuracy: 0.9807 - val_loss: 0.0960 - val_accuracy: 0.9704\n",
      "Epoch 23/50\n",
      "469/469 [==============================] - 2s 5ms/step - loss: 0.0704 - accuracy: 0.9807 - val_loss: 0.0927 - val_accuracy: 0.9702\n",
      "Epoch 24/50\n",
      "469/469 [==============================] - 2s 5ms/step - loss: 0.0689 - accuracy: 0.9812 - val_loss: 0.0923 - val_accuracy: 0.9708\n",
      "Epoch 25/50\n",
      "469/469 [==============================] - 2s 5ms/step - loss: 0.0674 - accuracy: 0.9819 - val_loss: 0.0908 - val_accuracy: 0.9720\n",
      "Epoch 26/50\n",
      "469/469 [==============================] - 2s 5ms/step - loss: 0.0659 - accuracy: 0.9824 - val_loss: 0.0906 - val_accuracy: 0.9718\n",
      "Epoch 27/50\n",
      "469/469 [==============================] - 2s 5ms/step - loss: 0.0646 - accuracy: 0.9830 - val_loss: 0.0905 - val_accuracy: 0.9718\n",
      "Epoch 28/50\n",
      "469/469 [==============================] - 2s 5ms/step - loss: 0.0632 - accuracy: 0.9832 - val_loss: 0.0889 - val_accuracy: 0.9717\n",
      "Epoch 29/50\n",
      "469/469 [==============================] - 2s 5ms/step - loss: 0.0620 - accuracy: 0.9838 - val_loss: 0.0873 - val_accuracy: 0.9728\n",
      "Epoch 30/50\n",
      "469/469 [==============================] - 2s 5ms/step - loss: 0.0606 - accuracy: 0.9841 - val_loss: 0.0874 - val_accuracy: 0.9722\n",
      "Epoch 31/50\n",
      "469/469 [==============================] - 2s 5ms/step - loss: 0.0595 - accuracy: 0.9843 - val_loss: 0.0859 - val_accuracy: 0.9732\n",
      "Epoch 32/50\n",
      "469/469 [==============================] - 2s 5ms/step - loss: 0.0582 - accuracy: 0.9847 - val_loss: 0.0870 - val_accuracy: 0.9722\n",
      "Epoch 33/50\n",
      "469/469 [==============================] - 2s 5ms/step - loss: 0.0570 - accuracy: 0.9849 - val_loss: 0.0853 - val_accuracy: 0.9726\n",
      "Epoch 34/50\n",
      "469/469 [==============================] - 2s 5ms/step - loss: 0.0559 - accuracy: 0.9855 - val_loss: 0.0849 - val_accuracy: 0.9733\n",
      "Epoch 35/50\n",
      "469/469 [==============================] - 2s 5ms/step - loss: 0.0548 - accuracy: 0.9858 - val_loss: 0.0841 - val_accuracy: 0.9736\n",
      "Epoch 36/50\n",
      "469/469 [==============================] - 2s 5ms/step - loss: 0.0537 - accuracy: 0.9859 - val_loss: 0.0835 - val_accuracy: 0.9738\n",
      "Epoch 37/50\n",
      "469/469 [==============================] - 2s 5ms/step - loss: 0.0525 - accuracy: 0.9865 - val_loss: 0.0831 - val_accuracy: 0.9734\n",
      "Epoch 38/50\n",
      "469/469 [==============================] - 2s 5ms/step - loss: 0.0516 - accuracy: 0.9867 - val_loss: 0.0827 - val_accuracy: 0.9733\n",
      "Epoch 39/50\n",
      "469/469 [==============================] - 2s 5ms/step - loss: 0.0507 - accuracy: 0.9871 - val_loss: 0.0824 - val_accuracy: 0.9737\n",
      "Epoch 40/50\n",
      "469/469 [==============================] - 2s 5ms/step - loss: 0.0495 - accuracy: 0.9872 - val_loss: 0.0806 - val_accuracy: 0.9743\n",
      "Epoch 41/50\n",
      "469/469 [==============================] - 2s 5ms/step - loss: 0.0488 - accuracy: 0.9876 - val_loss: 0.0813 - val_accuracy: 0.9739\n",
      "Epoch 42/50\n",
      "469/469 [==============================] - 2s 5ms/step - loss: 0.0478 - accuracy: 0.9879 - val_loss: 0.0801 - val_accuracy: 0.9740\n",
      "Epoch 43/50\n",
      "469/469 [==============================] - 2s 5ms/step - loss: 0.0469 - accuracy: 0.9878 - val_loss: 0.0797 - val_accuracy: 0.9746\n",
      "Epoch 44/50\n",
      "469/469 [==============================] - 2s 5ms/step - loss: 0.0460 - accuracy: 0.9885 - val_loss: 0.0791 - val_accuracy: 0.9752\n",
      "Epoch 45/50\n",
      "469/469 [==============================] - 2s 5ms/step - loss: 0.0451 - accuracy: 0.9886 - val_loss: 0.0790 - val_accuracy: 0.9747\n",
      "Epoch 46/50\n",
      "469/469 [==============================] - 2s 5ms/step - loss: 0.0443 - accuracy: 0.9888 - val_loss: 0.0788 - val_accuracy: 0.9749\n",
      "Epoch 47/50\n",
      "469/469 [==============================] - 2s 5ms/step - loss: 0.0435 - accuracy: 0.9891 - val_loss: 0.0785 - val_accuracy: 0.9747\n",
      "Epoch 48/50\n",
      "469/469 [==============================] - 2s 5ms/step - loss: 0.0427 - accuracy: 0.9894 - val_loss: 0.0782 - val_accuracy: 0.9755\n",
      "Epoch 49/50\n",
      "469/469 [==============================] - 2s 5ms/step - loss: 0.0419 - accuracy: 0.9894 - val_loss: 0.0767 - val_accuracy: 0.9749\n",
      "Epoch 50/50\n",
      "469/469 [==============================] - 2s 5ms/step - loss: 0.0412 - accuracy: 0.9900 - val_loss: 0.0777 - val_accuracy: 0.9749\n",
      "MDN training completed after 50 epochs.\n"
     ]
    }
   ],
   "source": [
    "# Training the model for 50 epochs\n",
    "MDN_TRAIN = model.fit(x_train.reshape(-1, 784), y_train, epochs=50, batch_size=128, validation_data=(x_test, y_test))\n",
    "print(\"MDN training completed after 50 epochs.\")"
   ]
  },
  {
   "cell_type": "code",
   "execution_count": 40,
   "id": "4a3edbc8",
   "metadata": {},
   "outputs": [
    {
     "name": "stdout",
     "output_type": "stream",
     "text": [
      "32/32 [==============================] - 2s 2ms/step\n"
     ]
    }
   ],
   "source": [
    "# Generate samples from the MDN model\n",
    "x = np.linspace(-5, 5, num=1000).reshape(-1, 1)\n",
    "x = np.hstack([x] * 784)  # reshape to (1000, 784)\n",
    "preds = model_mdn.predict(x)\n",
    "means = preds[:, :num_components]\n",
    "stds = preds[:, num_components:num_components * 2]\n",
    "coeffs = preds[:, num_components * 2:]\n",
    "\n",
    "# Sample from the Gaussian mixture model using the predicted parameters\n",
    "dist = tfp.distributions.MixtureSameFamily(\n",
    "    mixture_distribution=tfp.distributions.Categorical(probs=coeffs),\n",
    "    components_distribution=tfp.distributions.Normal(loc=means, scale=stds))\n",
    "samples = dist.sample(5000).numpy()"
   ]
  },
  {
   "cell_type": "code",
   "execution_count": 41,
   "id": "883e3918",
   "metadata": {
    "scrolled": true
   },
   "outputs": [
    {
     "data": {
      "image/png": "[encoded data removed]",
      "text/plain": [
       "<Figure size 432x288 with 1 Axes>"
      ]
     },
     "metadata": {
      "needs_background": "light"
     },
     "output_type": "display_data"
    }
   ],
   "source": [
    "# Plot the probability density function of the sampled values\n",
    "fig, ax = plt.subplots()\n",
    "ax.hist(samples.flatten(), bins=200, density=True, alpha=0.5)\n",
    "ax.set_title('MDN Probability Distribution')\n",
    "plt.show()"
   ]
  },
  {
   "cell_type": "markdown",
   "id": "94e7fe6d",
   "metadata": {},
   "source": [
    "The output graph shows a probability density function of the sampled values generated from the Mixture Density Network (MDN) model. The x-axis represents the range of values that can be generated, while the y-axis represents the probability density of each value.\n",
    "\n",
    "<b> Observations of the code </b>:\n",
    "\n",
    "The code first generates a set of 1000 points in the range of -5 to 5 and then reshapes it to (1000, 784). Then it predicts the mean, standard deviation, and coefficients using the MDN model. The predicted parameters are then used to sample 5000 values from the Gaussian mixture model. Finally, the probability density function plot is created using the histogram of the sampled values with 200 bins and alpha=0.5.\n",
    "\n",
    "The plot shows the distribution of the sampled values and how probable they are, with the highest probability values having the highest density. It can be observed that the plot has multiple peaks, indicating the presence of multiple Gaussian distributions. This is because the MDN model generates a mixture of Gaussian distributions, which can be used to represent complex probability distributions. The plot also shows that the sampled values are mostly concentrated in the range of -2 to 2, which is the range of the input data used to train the model."
   ]
  },
  {
   "cell_type": "markdown",
   "id": "6c1d9918",
   "metadata": {},
   "source": [
    "# <u> Evaluation</u> :\n",
    "The performance of the MDN model is evaluated and compared with the FCN model to determine its effectiveness in handwritten digit recognition."
   ]
  },
  {
   "cell_type": "markdown",
   "id": "18850bb7",
   "metadata": {},
   "source": [
    "### Evaluating the performance of the model using evaluation metrics such as accuracy, precision, recall, and F1-score"
   ]
  },
  {
   "cell_type": "code",
   "execution_count": 42,
   "id": "5426d864",
   "metadata": {},
   "outputs": [
    {
     "name": "stdout",
     "output_type": "stream",
     "text": [
      "313/313 [==============================] - 1s 2ms/step\n",
      "Accuracy: 97.49%\n",
      "Precision: 97.48%\n",
      "Recall: 97.45%\n",
      "F1-score: 97.46%\n"
     ]
    }
   ],
   "source": [
    "# Evaluate the model on test data\n",
    "\n",
    "from sklearn.metrics import accuracy_score, precision_score, recall_score, f1_score\n",
    "\n",
    "y_pred = model.predict(x_test)\n",
    "y_pred_labels = np.argmax(y_pred, axis=1)\n",
    "y_true_labels = np.argmax(y_test, axis=1)\n",
    "accuracy = accuracy_score(y_true_labels, y_pred_labels)\n",
    "precision = precision_score(y_true_labels, y_pred_labels, average='macro')\n",
    "recall = recall_score(y_true_labels, y_pred_labels, average='macro')\n",
    "f1 = f1_score(y_true_labels, y_pred_labels, average='macro')\n",
    "\n",
    "print('Accuracy: {:.2%}'.format(accuracy))\n",
    "print('Precision: {:.2%}'.format(precision))\n",
    "print('Recall: {:.2%}'.format(recall))\n",
    "print('F1-score: {:.2%}'.format(f1))\n"
   ]
  },
  {
   "cell_type": "markdown",
   "id": "97af3d65",
   "metadata": {},
   "source": [
    "### Generating classification report and confusion matrix"
   ]
  },
  {
   "cell_type": "code",
   "execution_count": 43,
   "id": "9892b116",
   "metadata": {},
   "outputs": [
    {
     "name": "stdout",
     "output_type": "stream",
     "text": [
      "Classification Report:\n",
      "               precision    recall  f1-score   support\n",
      "\n",
      "           0       0.98      0.99      0.98       980\n",
      "           1       0.99      0.99      0.99      1135\n",
      "           2       0.97      0.98      0.97      1032\n",
      "           3       0.97      0.98      0.97      1010\n",
      "           4       0.98      0.97      0.98       982\n",
      "           5       0.98      0.96      0.97       892\n",
      "           6       0.98      0.97      0.98       958\n",
      "           7       0.98      0.97      0.97      1028\n",
      "           8       0.96      0.97      0.97       974\n",
      "           9       0.97      0.96      0.97      1009\n",
      "\n",
      "    accuracy                           0.97     10000\n",
      "   macro avg       0.97      0.97      0.97     10000\n",
      "weighted avg       0.97      0.97      0.97     10000\n",
      "\n"
     ]
    },
    {
     "data": {
      "image/png": "[encoded data removed]",
      "text/plain": [
       "<Figure size 432x288 with 2 Axes>"
      ]
     },
     "metadata": {
      "needs_background": "light"
     },
     "output_type": "display_data"
    }
   ],
   "source": [
    "from sklearn.metrics import classification_report\n",
    "\n",
    "class_report = classification_report(y_true_labels, y_pred_labels)\n",
    "conf_mat = confusion_matrix(y_true_labels, y_pred_labels)\n",
    "\n",
    "print('Classification Report:\\n', class_report)\n",
    "plt.imshow(conf_mat, cmap=plt.cm.Blues)\n",
    "plt.colorbar()\n",
    "plt.xticks(np.arange(10))\n",
    "plt.yticks(np.arange(10))\n",
    "plt.xlabel('Predicted Label')\n",
    "plt.ylabel('True Label')\n",
    "plt.show()"
   ]
  },
  {
   "cell_type": "markdown",
   "id": "9f6d2eea",
   "metadata": {},
   "source": [
    "The output graph is a confusion matrix that represents the performance of the model in terms of correctly and incorrectly classified samples for each class. The rows represent the true labels of the samples, while the columns represent the predicted labels of the samples. Each cell in the matrix represents the number of samples that belong to a particular true label and have been classified as a particular predicted label. The diagonal elements represent the correctly classified samples, while the off-diagonal elements represent the incorrectly classified samples.\n",
    "\n",
    "The color intensity of each cell in the matrix represents the number of samples in that particular cell. The darker the color, the larger the number of samples in that cell."
   ]
  },
  {
   "cell_type": "markdown",
   "id": "09fc269c",
   "metadata": {},
   "source": [
    "### Displaying Model Accuracy"
   ]
  },
  {
   "cell_type": "code",
   "execution_count": 44,
   "id": "ccc3335c",
   "metadata": {},
   "outputs": [
    {
     "name": "stdout",
     "output_type": "stream",
     "text": [
      "313/313 [==============================] - 1s 2ms/step\n"
     ]
    },
    {
     "data": {
      "image/png": "[encoded data removed]",
      "text/plain": [
       "<Figure size 1440x288 with 15 Axes>"
      ]
     },
     "metadata": {
      "needs_background": "light"
     },
     "output_type": "display_data"
    },
    {
     "name": "stdout",
     "output_type": "stream",
     "text": [
      "The model accuracy on the test set is 97.49%\n",
      "Congratulations! The model achieved high accuracy.\n"
     ]
    }
   ],
   "source": [
    "#Predicting the classes of test images\n",
    "y_pred_probs = model.predict(x_test)\n",
    "y_pred = np.argmax(y_pred_probs, axis=1)\n",
    "\n",
    "#Displaying the first 10 test images along with the predicted class and actual class\n",
    "plt.figure(figsize=(20, 4))\n",
    "for i in range(15):\n",
    "    ax = plt.subplot(1, 15, i + 1)\n",
    "    plt.imshow(x_test[i].reshape(28, 28), cmap='gray')\n",
    "    plt.title(\"Pred: {}\\nTrue: {}\".format(y_pred[i], np.argmax(y_test[i])))\n",
    "    ax.axis('off')\n",
    "plt.show()\n",
    "\n",
    "\n",
    "# Evaluating model accuracy\n",
    "test_loss, test_accuracy = model.evaluate(x_test, y_test, verbose=0)\n",
    "\n",
    "# Displaying the model accuracy\n",
    "if test_accuracy == 1:\n",
    "    print(\"Congratulations! The model has achieved 100% accuracy on the test set!\")\n",
    "else:\n",
    "    print(\"The model accuracy on the test set is {:.2f}%\".format(test_accuracy*100))\n",
    "    \n",
    "#End-note\n",
    "if score2[1] > 0.95:\n",
    "    print(\"Congratulations! The model achieved high accuracy.\")\n",
    "    model_mdn.save(\"model_mdn.h5\")"
   ]
  },
  {
   "cell_type": "markdown",
   "id": "67438747",
   "metadata": {},
   "source": [
    "<b>Observations</b>:\n",
    "\n",
    "The model seems to be performing well on the test set as most of the predicted classes match the true classes.\n",
    "Overall, the model's accuracy on the test set is displayed at the end of the code. \n",
    "If the accuracy is 1, then it means the model has achieved 100% accuracy on the test set, else it shows the model's accuracy as a percentage.\n"
   ]
  }
 ],
 "metadata": {
  "kernelspec": {
   "display_name": "Python 3 (ipykernel)",
   "language": "python",
   "name": "python3"
  },
  "language_info": {
   "codemirror_mode": {
    "name": "ipython",
    "version": 3
   },
   "file_extension": ".py",
   "mimetype": "text/x-python",
   "name": "python",
   "nbconvert_exporter": "python",
   "pygments_lexer": "ipython3",
   "version": "3.9.12"
  }
 },
 "nbformat": 4,
 "nbformat_minor": 5
}
